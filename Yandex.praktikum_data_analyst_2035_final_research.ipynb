{
 "cells": [
  {
   "cell_type": "markdown",
   "metadata": {},
   "source": [
    "<div class=\"alert alert-success\">\n",
    "<font size=\"5\"><b>Комментарий ревьюера 2</b></font>\n",
    "\n",
    "Привет еще раз. Спасибо, что доделал работу. Оформление комментариев по работе сохраняется. Только обозначим, что это вторая итерация. \n",
    "\n",
    "</div>"
   ]
  },
  {
   "cell_type": "markdown",
   "metadata": {},
   "source": [
    "<div class=\"alert alert-success\">\n",
    "<font size=\"5\"><b>Комментарий ревьюера</b></font>\n",
    "\n",
    "Привет! Спасибо, что прислал задание:)Меня зовут Слепцов Артем и я буду проверять твой проект) Ты проделал большую работу над проектом, однако его еще можно улучшить. Будет здорово, если ты, надеюсь, не против, если я буду на ты, будешь отвечать на комментарии и участвовать в диалоге. \n",
    "\n",
    "Мои комментарии обозначены пометкой **Комментарий ревьюера**. Далее в файле ты сможешь найти их в похожих ячейках (если фон комментария <font color=green>зелёный</font> - всё сделано правильно. Рекомендации укажу таким же цветом; <font color=orange>оранжевый</font> - некритичные замечания. Если таких замечаний меньше трех - проект может быть принят без их отработки; <font color=red>красный</font> - нужно переделать). Не удаляй эти комментарии и постарайся учесть их в ходе выполнения данного проекта. \n",
    "</div>\n",
    "\n",
    "<div class=\"alert alert-success\">\n",
    "<font size=\"5\"><b>Комментарий обучающегося</b></font>\n",
    "    \n",
    "Привет, Артем. Все исправления я отражу в таких ответных комментариях, где укажу, что было исправлено. Пишу сейчас это после всех исправлений и думаю, что в некоторых местах тебе будет не так просто разобраться, как было, и как стало. Может быть у тебя осталась предыдущая версия ноутбука, до исправлений. В плане цельности восприятия отчёта куча комментариев может быть делает его не очень красивым, при необходимости потом весь файл можно почистить, чтобы получился презентабельный документ.\n",
    "</div>"
   ]
  },
  {
   "cell_type": "markdown",
   "metadata": {},
   "source": [
    "<div class=\"alert alert-success\">\n",
    "<font size=\"5\"><b>Комментарий ревьюера 2</b></font>\n",
    "\n",
    "Да, прошлая версия у меня есть. При необходимости загляну) После того как проект будет засчитан, можно убрать все комментарии, если они тебе мешают.  \n",
    "\n",
    "</div>"
   ]
  },
  {
   "cell_type": "markdown",
   "metadata": {},
   "source": [
    "# Исследование рынка игр"
   ]
  },
  {
   "cell_type": "markdown",
   "metadata": {},
   "source": [
    "При проведении анализа мною были использованы не только возможности библиотек, которые были изучены на курсе \"Аналитик данных\" от Университета 2035. Некоторые использованные методы также не были описаны в курсе, их я гуглил, либо смотрел в документации библиотек. Насколько я знаю, формат курса от Университета 2035 является неполным, а в полном же курсе изучается намного больше материала. Поэтому самостоятельное изучение и использование дополнительного инструментария для решения задачи считаю допустимым."
   ]
  },
  {
   "cell_type": "markdown",
   "metadata": {},
   "source": [
    "<div class=\"alert alert-success\">\n",
    "<font size=\"5\"><b>Комментарий ревьюера</b></font>\n",
    "\n",
    "Использование любых методов допустимо, если задача будет выполнена)\n",
    "\n",
    "</div>"
   ]
  },
  {
   "cell_type": "markdown",
   "metadata": {},
   "source": [
    "<div class=\"alert alert-danger\">\n",
    "<font size=\"5\"><b>Комментарий ревьюера</b></font>\n",
    "\n",
    "Стоит делать краткое вступление в работу, описание того, что надо делать. В работе необходимо приводить информацию о входных данных: какие столбцы есть в таблице, их названия и какую информацию они несут. Также название работы лучше отображать в отдельной ячейке и делать крупный шрифт (заголовок). Так работа выглядит презентабельно.\n",
    "\n",
    "</div>\n",
    "\n",
    "\n",
    "<div class=\"alert alert-danger\">\n",
    "<font size=\"5\"><b>Комментарий обучающегося</b></font>\n",
    "\n",
    "Добавил Подразделы \"Описание проекта\" и \"Описание данных\". Не стал просто копипастить всё описание проекта, немного переформулировал, выделил ключевую задачу.\n",
    "    \n",
    "Название проекта \"Исследование рынка игр\" отображено ячейкой с типом Heading (level 1), в названиях остальных подразделов используется level 2.\n",
    "\n",
    "</div>"
   ]
  },
  {
   "cell_type": "markdown",
   "metadata": {},
   "source": [
    "## Описание проекта"
   ]
  },
  {
   "cell_type": "markdown",
   "metadata": {},
   "source": [
    "В этом проекте проводится анализ данных о продажах компьютерных игр интернет-магазина «Стримчик», полученных из открытых источников. Данные собраны за период с 1980-го года по конец 2016-го. Описание столбцов с данными приведено ниже.\n",
    "\n",
    "Задача проекта: для планирования проводимых в 2017-м году интернет-магазином рекламных кампаний необходимо провести анализ имеющихся данных с целью выявления закономерностей, определяющих успешность конкретной игры."
   ]
  },
  {
   "cell_type": "markdown",
   "metadata": {},
   "source": [
    "# Описание данных"
   ]
  },
  {
   "cell_type": "markdown",
   "metadata": {},
   "source": [
    "- Name — название игры;\n",
    "- Platform — платформа;\n",
    "- Year_of_Release — год выпуска;\n",
    "- Genre — жанр игры;\n",
    "- NA_sales — продажи в Северной Америке (миллионы долларов);\n",
    "- EU_sales — продажи в Европе (миллионы долларов);\n",
    "- JP_sales — продажи в Японии (миллионы долларов);\n",
    "- Other_sales — продажи в других странах (миллионы долларов);\n",
    "- Critic_Score — оценка критиков (от 0 до 100);\n",
    "- User_Score — оценка пользователей (от 0 до 10);\n",
    "- Rating — рейтинг от организации ESRB (англ. Entertainment Software Rating Board). Эта ассоциация определяет рейтинг компьютерных игр и присваивает им подходящую возрастную категорию.\n",
    "\n",
    "Данные за 2016 год могут быть неполными."
   ]
  },
  {
   "cell_type": "markdown",
   "metadata": {},
   "source": [
    "<div class=\"alert alert-success\">\n",
    "<font size=\"5\"><b>Комментарий ревьюера 2</b></font>\n",
    "\n",
    "Вступление в работу очень важно. Так ты поясняешь то, чему она посвящена. Еще лучше будет, если ты сделаешь план работы с гиперссылками. Да, есть плагин ToC. Но хорошо бы уметь реализовывать интерактивный план проекта вручную. Как это реализовать - смотри по [ссылке](https://stackoverflow.com/questions/49535664/how-to-hyperlink-in-a-jupyter-notebook/49717704).\n",
    "\n",
    "</div>"
   ]
  },
  {
   "cell_type": "markdown",
   "metadata": {},
   "source": [
    "## Импорт библиотек, загрузка файла, первичный анализ данных"
   ]
  },
  {
   "cell_type": "markdown",
   "metadata": {},
   "source": [
    "<div class=\"alert alert-warning\">\n",
    "<font size=\"5\"><b>Комментарий ревьюера</b></font>\n",
    "\n",
    "Я заметил, что ячейки в твоей тетрадке начинаются не с 1. Перед отправкой работы рекомендую перезапускать ноутбук, чтобы убедиться, что все ячейки выполняются корректно.\n",
    "\n",
    "</div>\n",
    "\n",
    "\n",
    "<div class=\"alert alert-warning\">\n",
    "<font size=\"5\"><b>Комментарий обучающегося</b></font>\n",
    "\n",
    "Принято, перед отправкой на проверку всё перезапускаю.\n",
    "\n",
    "</div>"
   ]
  },
  {
   "cell_type": "markdown",
   "metadata": {},
   "source": [
    "<div class=\"alert alert-success\">\n",
    "<font size=\"5\"><b>Комментарий ревьюера 2</b></font>\n",
    "\n",
    "Перезапуск проекта позволяет обнаружить и исправить скрытые в коде ошибки. \n",
    "\n",
    "</div>"
   ]
  },
  {
   "cell_type": "code",
   "execution_count": 1,
   "metadata": {},
   "outputs": [],
   "source": [
    "# импорт иблиотек\n",
    "from scipy import stats as st\n",
    "\n",
    "import numpy as np\n",
    "import pandas as pd\n",
    "import matplotlib.pyplot as plt\n",
    "import seaborn as sns\n",
    "import warnings\n",
    "\n",
    "%matplotlib inline"
   ]
  },
  {
   "cell_type": "markdown",
   "metadata": {},
   "source": [
    "<div class=\"alert alert-success\">\n",
    "<font size=\"5\"><b>Комментарий ревьюера</b></font>\n",
    "\n",
    "Правильно, что весь импорт ты проводишь в первой ячейке работы. Так твой коллега, запускающий работу, будет в курсе используемых в ней библиотек и сможет при необходимости быстро настроить окружение. \n",
    "\n",
    "</div>"
   ]
  },
  {
   "cell_type": "code",
   "execution_count": 2,
   "metadata": {},
   "outputs": [
    {
     "data": {
      "text/html": [
       "<div>\n",
       "<style scoped>\n",
       "    .dataframe tbody tr th:only-of-type {\n",
       "        vertical-align: middle;\n",
       "    }\n",
       "\n",
       "    .dataframe tbody tr th {\n",
       "        vertical-align: top;\n",
       "    }\n",
       "\n",
       "    .dataframe thead th {\n",
       "        text-align: right;\n",
       "    }\n",
       "</style>\n",
       "<table border=\"1\" class=\"dataframe\">\n",
       "  <thead>\n",
       "    <tr style=\"text-align: right;\">\n",
       "      <th></th>\n",
       "      <th>Name</th>\n",
       "      <th>Platform</th>\n",
       "      <th>Year_of_Release</th>\n",
       "      <th>Genre</th>\n",
       "      <th>NA_sales</th>\n",
       "      <th>EU_sales</th>\n",
       "      <th>JP_sales</th>\n",
       "      <th>Other_sales</th>\n",
       "      <th>Critic_Score</th>\n",
       "      <th>User_Score</th>\n",
       "      <th>Rating</th>\n",
       "    </tr>\n",
       "  </thead>\n",
       "  <tbody>\n",
       "    <tr>\n",
       "      <td>0</td>\n",
       "      <td>Wii Sports</td>\n",
       "      <td>Wii</td>\n",
       "      <td>2006.0</td>\n",
       "      <td>Sports</td>\n",
       "      <td>41.36</td>\n",
       "      <td>28.96</td>\n",
       "      <td>3.77</td>\n",
       "      <td>8.45</td>\n",
       "      <td>76.0</td>\n",
       "      <td>8</td>\n",
       "      <td>E</td>\n",
       "    </tr>\n",
       "    <tr>\n",
       "      <td>1</td>\n",
       "      <td>Super Mario Bros.</td>\n",
       "      <td>NES</td>\n",
       "      <td>1985.0</td>\n",
       "      <td>Platform</td>\n",
       "      <td>29.08</td>\n",
       "      <td>3.58</td>\n",
       "      <td>6.81</td>\n",
       "      <td>0.77</td>\n",
       "      <td>NaN</td>\n",
       "      <td>NaN</td>\n",
       "      <td>NaN</td>\n",
       "    </tr>\n",
       "    <tr>\n",
       "      <td>2</td>\n",
       "      <td>Mario Kart Wii</td>\n",
       "      <td>Wii</td>\n",
       "      <td>2008.0</td>\n",
       "      <td>Racing</td>\n",
       "      <td>15.68</td>\n",
       "      <td>12.76</td>\n",
       "      <td>3.79</td>\n",
       "      <td>3.29</td>\n",
       "      <td>82.0</td>\n",
       "      <td>8.3</td>\n",
       "      <td>E</td>\n",
       "    </tr>\n",
       "    <tr>\n",
       "      <td>3</td>\n",
       "      <td>Wii Sports Resort</td>\n",
       "      <td>Wii</td>\n",
       "      <td>2009.0</td>\n",
       "      <td>Sports</td>\n",
       "      <td>15.61</td>\n",
       "      <td>10.93</td>\n",
       "      <td>3.28</td>\n",
       "      <td>2.95</td>\n",
       "      <td>80.0</td>\n",
       "      <td>8</td>\n",
       "      <td>E</td>\n",
       "    </tr>\n",
       "    <tr>\n",
       "      <td>4</td>\n",
       "      <td>Pokemon Red/Pokemon Blue</td>\n",
       "      <td>GB</td>\n",
       "      <td>1996.0</td>\n",
       "      <td>Role-Playing</td>\n",
       "      <td>11.27</td>\n",
       "      <td>8.89</td>\n",
       "      <td>10.22</td>\n",
       "      <td>1.00</td>\n",
       "      <td>NaN</td>\n",
       "      <td>NaN</td>\n",
       "      <td>NaN</td>\n",
       "    </tr>\n",
       "    <tr>\n",
       "      <td>...</td>\n",
       "      <td>...</td>\n",
       "      <td>...</td>\n",
       "      <td>...</td>\n",
       "      <td>...</td>\n",
       "      <td>...</td>\n",
       "      <td>...</td>\n",
       "      <td>...</td>\n",
       "      <td>...</td>\n",
       "      <td>...</td>\n",
       "      <td>...</td>\n",
       "      <td>...</td>\n",
       "    </tr>\n",
       "    <tr>\n",
       "      <td>16710</td>\n",
       "      <td>Samurai Warriors: Sanada Maru</td>\n",
       "      <td>PS3</td>\n",
       "      <td>2016.0</td>\n",
       "      <td>Action</td>\n",
       "      <td>0.00</td>\n",
       "      <td>0.00</td>\n",
       "      <td>0.01</td>\n",
       "      <td>0.00</td>\n",
       "      <td>NaN</td>\n",
       "      <td>NaN</td>\n",
       "      <td>NaN</td>\n",
       "    </tr>\n",
       "    <tr>\n",
       "      <td>16711</td>\n",
       "      <td>LMA Manager 2007</td>\n",
       "      <td>X360</td>\n",
       "      <td>2006.0</td>\n",
       "      <td>Sports</td>\n",
       "      <td>0.00</td>\n",
       "      <td>0.01</td>\n",
       "      <td>0.00</td>\n",
       "      <td>0.00</td>\n",
       "      <td>NaN</td>\n",
       "      <td>NaN</td>\n",
       "      <td>NaN</td>\n",
       "    </tr>\n",
       "    <tr>\n",
       "      <td>16712</td>\n",
       "      <td>Haitaka no Psychedelica</td>\n",
       "      <td>PSV</td>\n",
       "      <td>2016.0</td>\n",
       "      <td>Adventure</td>\n",
       "      <td>0.00</td>\n",
       "      <td>0.00</td>\n",
       "      <td>0.01</td>\n",
       "      <td>0.00</td>\n",
       "      <td>NaN</td>\n",
       "      <td>NaN</td>\n",
       "      <td>NaN</td>\n",
       "    </tr>\n",
       "    <tr>\n",
       "      <td>16713</td>\n",
       "      <td>Spirits &amp; Spells</td>\n",
       "      <td>GBA</td>\n",
       "      <td>2003.0</td>\n",
       "      <td>Platform</td>\n",
       "      <td>0.01</td>\n",
       "      <td>0.00</td>\n",
       "      <td>0.00</td>\n",
       "      <td>0.00</td>\n",
       "      <td>NaN</td>\n",
       "      <td>NaN</td>\n",
       "      <td>NaN</td>\n",
       "    </tr>\n",
       "    <tr>\n",
       "      <td>16714</td>\n",
       "      <td>Winning Post 8 2016</td>\n",
       "      <td>PSV</td>\n",
       "      <td>2016.0</td>\n",
       "      <td>Simulation</td>\n",
       "      <td>0.00</td>\n",
       "      <td>0.00</td>\n",
       "      <td>0.01</td>\n",
       "      <td>0.00</td>\n",
       "      <td>NaN</td>\n",
       "      <td>NaN</td>\n",
       "      <td>NaN</td>\n",
       "    </tr>\n",
       "  </tbody>\n",
       "</table>\n",
       "<p>16715 rows × 11 columns</p>\n",
       "</div>"
      ],
      "text/plain": [
       "                                Name Platform  Year_of_Release         Genre  \\\n",
       "0                         Wii Sports      Wii           2006.0        Sports   \n",
       "1                  Super Mario Bros.      NES           1985.0      Platform   \n",
       "2                     Mario Kart Wii      Wii           2008.0        Racing   \n",
       "3                  Wii Sports Resort      Wii           2009.0        Sports   \n",
       "4           Pokemon Red/Pokemon Blue       GB           1996.0  Role-Playing   \n",
       "...                              ...      ...              ...           ...   \n",
       "16710  Samurai Warriors: Sanada Maru      PS3           2016.0        Action   \n",
       "16711               LMA Manager 2007     X360           2006.0        Sports   \n",
       "16712        Haitaka no Psychedelica      PSV           2016.0     Adventure   \n",
       "16713               Spirits & Spells      GBA           2003.0      Platform   \n",
       "16714            Winning Post 8 2016      PSV           2016.0    Simulation   \n",
       "\n",
       "       NA_sales  EU_sales  JP_sales  Other_sales  Critic_Score User_Score  \\\n",
       "0         41.36     28.96      3.77         8.45          76.0          8   \n",
       "1         29.08      3.58      6.81         0.77           NaN        NaN   \n",
       "2         15.68     12.76      3.79         3.29          82.0        8.3   \n",
       "3         15.61     10.93      3.28         2.95          80.0          8   \n",
       "4         11.27      8.89     10.22         1.00           NaN        NaN   \n",
       "...         ...       ...       ...          ...           ...        ...   \n",
       "16710      0.00      0.00      0.01         0.00           NaN        NaN   \n",
       "16711      0.00      0.01      0.00         0.00           NaN        NaN   \n",
       "16712      0.00      0.00      0.01         0.00           NaN        NaN   \n",
       "16713      0.01      0.00      0.00         0.00           NaN        NaN   \n",
       "16714      0.00      0.00      0.01         0.00           NaN        NaN   \n",
       "\n",
       "      Rating  \n",
       "0          E  \n",
       "1        NaN  \n",
       "2          E  \n",
       "3          E  \n",
       "4        NaN  \n",
       "...      ...  \n",
       "16710    NaN  \n",
       "16711    NaN  \n",
       "16712    NaN  \n",
       "16713    NaN  \n",
       "16714    NaN  \n",
       "\n",
       "[16715 rows x 11 columns]"
      ]
     },
     "execution_count": 2,
     "metadata": {},
     "output_type": "execute_result"
    }
   ],
   "source": [
    "# чтение и просмотр файла с данными\n",
    "df = pd.read_csv('/datasets/games.csv')\n",
    "df"
   ]
  },
  {
   "cell_type": "markdown",
   "metadata": {},
   "source": [
    "При первичном изучении датасета видно, что в последних трёх столбцах почти половина данных не заполнена.\n",
    "Также, на первый взгляд, не у всех столбцов соответствующий тип данных."
   ]
  },
  {
   "cell_type": "markdown",
   "metadata": {},
   "source": [
    "## Подготовка данных"
   ]
  },
  {
   "cell_type": "code",
   "execution_count": 3,
   "metadata": {},
   "outputs": [],
   "source": [
    "# приведение названий столбцов к нижнему регистру\n",
    "df.columns = df.columns.str.lower()"
   ]
  },
  {
   "cell_type": "markdown",
   "metadata": {},
   "source": [
    "<div class=\"alert alert-success\">\n",
    "<font size=\"5\"><b>Комментарий ревьюера</b></font>\n",
    "\n",
    "Данный метод позволяет нам автоматизировать процесс приведения названий столбцов к нижнему регистру. Так исключается вероятность опечаток. \n",
    "\n",
    "</div>"
   ]
  },
  {
   "cell_type": "markdown",
   "metadata": {},
   "source": [
    "Столбец year_of_release не должен быть с типом float64, необходимо преобразовать в int64.\n",
    "\n",
    "Столбец user_score имеет тип данных object, что тоже неверно. При этом, скорее всего, в последующих расчётах значения этого столбца надо будет как-то сопоставлять со значениями из столбца critic_score, поэтому они должны быть одного типа. Используя методы unique() и value_counts(), можно увидеть, что в столц critic_score все значения целые, но в столбце user_score значения и целы, и дробные. Поэтому user_score приведём к типу float64.\n",
    "\n",
    "Также в столбце с рейтингом user_score были обнаружены значения tbd - как я понимаю, ячейки просто заполнены какими то определёнными символами (to be determined), при этом NaN не используется. В столбце 'user_score' таких значений tbd 2424 штуки. При изменении типа данных можно заменить их на NaN."
   ]
  },
  {
   "cell_type": "code",
   "execution_count": 4,
   "metadata": {},
   "outputs": [],
   "source": [
    "df['year_of_release'] = df['year_of_release'].astype('Int64')"
   ]
  },
  {
   "cell_type": "code",
   "execution_count": 5,
   "metadata": {},
   "outputs": [],
   "source": [
    "# параметр errors = 'coerce' принудительно заменяет некорректные значения ('tbd') на NaN\n",
    "df['user_score'] = pd.to_numeric(df['user_score'], errors = 'coerce')"
   ]
  },
  {
   "cell_type": "markdown",
   "metadata": {},
   "source": [
    "<div class=\"alert alert-success\">\n",
    "<font size=\"5\"><b>Комментарий ревьюера</b></font>\n",
    "\n",
    "Верно, по своей сути tbd и является Nan. Отлично, что определяешь неявные пропущенные значения.\n",
    "\n",
    "</div>"
   ]
  },
  {
   "cell_type": "code",
   "execution_count": 6,
   "metadata": {},
   "outputs": [
    {
     "data": {
      "text/plain": [
       "name                  2\n",
       "platform              0\n",
       "year_of_release     269\n",
       "genre                 2\n",
       "na_sales              0\n",
       "eu_sales              0\n",
       "jp_sales              0\n",
       "other_sales           0\n",
       "critic_score       8578\n",
       "user_score         9125\n",
       "rating             6766\n",
       "dtype: int64"
      ]
     },
     "execution_count": 6,
     "metadata": {},
     "output_type": "execute_result"
    }
   ],
   "source": [
    "# посмотрим количество пропусков в других столбцах\n",
    "df.isna().sum()"
   ]
  },
  {
   "cell_type": "markdown",
   "metadata": {},
   "source": [
    "Имеются значительные пропуски в трёх последних столбцах. При этом на текущий момент неизвестен результат последующих вычислений и корректность заполнения пропусков какими-либо значениями. В случае необходимости можно будет вернуться на этот этап и заполнить NaN подходящим значением.\n",
    "Пропуски в данных могли возникнуть вследствие некорректной выгрузки данных. Также в описании проекта имеется примечание о том, что данные за 2016-й год (а этот год последний по хронологии) могут быть неполными."
   ]
  },
  {
   "cell_type": "code",
   "execution_count": 7,
   "metadata": {},
   "outputs": [
    {
     "data": {
      "text/plain": [
       "0"
      ]
     },
     "execution_count": 7,
     "metadata": {},
     "output_type": "execute_result"
    }
   ],
   "source": [
    "# проверим наличие дубликатов, если они будут - удалим\n",
    "df.duplicated().sum()"
   ]
  },
  {
   "cell_type": "code",
   "execution_count": 8,
   "metadata": {},
   "outputs": [],
   "source": [
    "# добавим столбец total_sales с суммарными продажами во всех регионах\n",
    "df['total_sales'] = df.loc[:, 'na_sales':'other_sales'].sum(1)"
   ]
  },
  {
   "cell_type": "markdown",
   "metadata": {},
   "source": [
    "<div class=\"alert alert-success\">\n",
    "<font size=\"5\"><b>Комментарий ревьюера</b></font>\n",
    "\n",
    "Да, восстановить пропущенные значения мы не можем. Данных для этого недостаточно. Лучше работать с меньшим количеством данных хорошего качества.\n",
    "    \n",
    "Ошибки в данных устранены. Данные подготовлены к дальнейшему анализу. \n",
    "\n",
    "</div>"
   ]
  },
  {
   "cell_type": "markdown",
   "metadata": {},
   "source": [
    "### Исследовательский анализ данных"
   ]
  },
  {
   "cell_type": "markdown",
   "metadata": {},
   "source": [
    "Посмотрим распределение количества выпущенных игр по годам. Поскольку мы пока мало что знаем о распределении данных, а также учитывая, что срок по годам с 1980-го по 2016-й получается не очень большой, возьмём данные за весь период. Также сейчас важны не столько конкретный цифры в разрезе годов, сколько получение общего представления о динамике показателя. А это удобнее всего визульно представить в виде графика. Для более наглядного отображения и упрощения кода воспользуемся библиотекой Seaborn."
   ]
  },
  {
   "cell_type": "code",
   "execution_count": 9,
   "metadata": {},
   "outputs": [
    {
     "data": {
      "text/plain": [
       "year_of_release\n",
       "1980       9\n",
       "1981      46\n",
       "1982      36\n",
       "1983      17\n",
       "1984      14\n",
       "1985      14\n",
       "1986      21\n",
       "1987      16\n",
       "1988      15\n",
       "1989      17\n",
       "1990      16\n",
       "1991      41\n",
       "1992      43\n",
       "1993      60\n",
       "1994     121\n",
       "1995     219\n",
       "1996     263\n",
       "1997     289\n",
       "1998     379\n",
       "1999     338\n",
       "2000     350\n",
       "2001     482\n",
       "2002     829\n",
       "2003     775\n",
       "2004     762\n",
       "2005     939\n",
       "2006    1006\n",
       "2007    1197\n",
       "2008    1427\n",
       "2009    1426\n",
       "2010    1255\n",
       "2011    1136\n",
       "2012     653\n",
       "2013     544\n",
       "2014     581\n",
       "2015     606\n",
       "2016     502\n",
       "Name: name, dtype: int64"
      ]
     },
     "execution_count": 9,
     "metadata": {},
     "output_type": "execute_result"
    }
   ],
   "source": [
    "# группировка данных по году\n",
    "df.groupby('year_of_release')['name'].count()"
   ]
  },
  {
   "cell_type": "code",
   "execution_count": 10,
   "metadata": {},
   "outputs": [
    {
     "data": {
      "text/plain": [
       "(array([ 0,  1,  2,  3,  4,  5,  6,  7,  8,  9, 10, 11, 12, 13, 14, 15, 16,\n",
       "        17, 18, 19, 20, 21, 22, 23, 24, 25, 26, 27, 28, 29, 30, 31, 32, 33,\n",
       "        34, 35, 36]),\n",
       " <a list of 37 Text xticklabel objects>)"
      ]
     },
     "execution_count": 10,
     "metadata": {},
     "output_type": "execute_result"
    },
    {
     "data": {
      "image/png": "[encoded data removed]",
      "text/plain": [
       "<Figure size 1080x720 with 1 Axes>"
      ]
     },
     "metadata": {
      "needs_background": "light"
     },
     "output_type": "display_data"
    }
   ],
   "source": [
    "# строим countplot\n",
    "plt.figure(figsize=(15, 10))\n",
    "sns.countplot(x=\"year_of_release\", data=df)\n",
    "plt.xlabel('Years')\n",
    "plt.ylabel('Global sales')\n",
    "plt.title('Global sales by platforms')\n",
    "plt.xticks(rotation=90)"
   ]
  },
  {
   "cell_type": "markdown",
   "metadata": {},
   "source": [
    "В 80-х и 90-х годах суммарные продажи в денежном выражении намного ниже, чем в 2000-х. Это связано с инфляцией - одна и та же сумма сейчас намного меньше, чем 30 лет назад.\n",
    "\n",
    "Пик продаж приходится на период 2007-2011 гг. По условию проекта мы проводим анализ в декабре 2016г. Значительное падение продаж после 2012г. может быть связано с тем, что от 2012-го года до 2016-го прошло не так много времени, и после декабря 2016-го игроки ещё будут покупать игры пятилетней давности. Т.е. если проводить анализ этих же данных в марте 2021г., то данные за период 2012-2016гг. вырастут и, возможно, подравняются с пиковым периодом. Таким образом, при анализе всегда будет некий лаг, запаздывание данных, т.к. смотрим измерения в конкретный момент времени."
   ]
  },
  {
   "cell_type": "markdown",
   "metadata": {},
   "source": [
    "<div class=\"alert alert-success\">\n",
    "<font size=\"5\"><b>Комментарий ревьюера</b></font>\n",
    "\n",
    "Как думаешь, с чем связан спад в индустрии последних лет?\n",
    "</div>\n",
    "\n",
    "\n",
    "<div class=\"alert alert-success\">\n",
    "<font size=\"5\"><b>Комментарий обучающегося</b></font>\n",
    "\n",
    "Первую возможную причину отразил здесь (т.к. выполнял отчёт в том же порядке, как он выглядит сейчас, и тогда это было первое, что пришло в голову) - то, что данные собраны на конкретный период времени (декабрь 2016г.), если смотреть данные на сегодня (2021 год), то последние столбики, предполагаю, пусть и незначительно, но подрастут.\n",
    "    \n",
    "Вторую причину (развитие мобильных телефонов и соответствующих игровых платформ) указал в общем выводе внизу, т.к. к нему пришёл уже после всестороннего анализа всего набора данных. Раз уж замечание некритичное, предлагаю всё оставить на своих местах.\n",
    "</div>"
   ]
  },
  {
   "cell_type": "markdown",
   "metadata": {},
   "source": [
    "<div class=\"alert alert-success\">\n",
    "<font size=\"5\"><b>Комментарий ревьюера 2</b></font>\n",
    "\n",
    "Соглашусь с озвученными причинами спада. \n",
    "\n",
    "</div>"
   ]
  },
  {
   "cell_type": "markdown",
   "metadata": {},
   "source": [
    "Посмотрим динамику изменения по годам суммарных продаж в разрезе платформ."
   ]
  },
  {
   "cell_type": "code",
   "execution_count": 11,
   "metadata": {},
   "outputs": [
    {
     "data": {
      "text/html": [
       "<div>\n",
       "<style scoped>\n",
       "    .dataframe tbody tr th:only-of-type {\n",
       "        vertical-align: middle;\n",
       "    }\n",
       "\n",
       "    .dataframe tbody tr th {\n",
       "        vertical-align: top;\n",
       "    }\n",
       "\n",
       "    .dataframe thead th {\n",
       "        text-align: right;\n",
       "    }\n",
       "</style>\n",
       "<table border=\"1\" class=\"dataframe\">\n",
       "  <thead>\n",
       "    <tr style=\"text-align: right;\">\n",
       "      <th>year_of_release</th>\n",
       "      <th>1980</th>\n",
       "      <th>1981</th>\n",
       "      <th>1982</th>\n",
       "      <th>1983</th>\n",
       "      <th>1984</th>\n",
       "      <th>1985</th>\n",
       "      <th>1986</th>\n",
       "      <th>1987</th>\n",
       "      <th>1988</th>\n",
       "      <th>1989</th>\n",
       "      <th>...</th>\n",
       "      <th>2007</th>\n",
       "      <th>2008</th>\n",
       "      <th>2009</th>\n",
       "      <th>2010</th>\n",
       "      <th>2011</th>\n",
       "      <th>2012</th>\n",
       "      <th>2013</th>\n",
       "      <th>2014</th>\n",
       "      <th>2015</th>\n",
       "      <th>2016</th>\n",
       "    </tr>\n",
       "    <tr>\n",
       "      <th>platform</th>\n",
       "      <th></th>\n",
       "      <th></th>\n",
       "      <th></th>\n",
       "      <th></th>\n",
       "      <th></th>\n",
       "      <th></th>\n",
       "      <th></th>\n",
       "      <th></th>\n",
       "      <th></th>\n",
       "      <th></th>\n",
       "      <th></th>\n",
       "      <th></th>\n",
       "      <th></th>\n",
       "      <th></th>\n",
       "      <th></th>\n",
       "      <th></th>\n",
       "      <th></th>\n",
       "      <th></th>\n",
       "      <th></th>\n",
       "      <th></th>\n",
       "      <th></th>\n",
       "    </tr>\n",
       "  </thead>\n",
       "  <tbody>\n",
       "    <tr>\n",
       "      <td>2600</td>\n",
       "      <td>11.38</td>\n",
       "      <td>35.68</td>\n",
       "      <td>28.88</td>\n",
       "      <td>5.84</td>\n",
       "      <td>0.27</td>\n",
       "      <td>0.45</td>\n",
       "      <td>0.67</td>\n",
       "      <td>1.94</td>\n",
       "      <td>0.74</td>\n",
       "      <td>0.63</td>\n",
       "      <td>...</td>\n",
       "      <td>NaN</td>\n",
       "      <td>NaN</td>\n",
       "      <td>NaN</td>\n",
       "      <td>NaN</td>\n",
       "      <td>NaN</td>\n",
       "      <td>NaN</td>\n",
       "      <td>NaN</td>\n",
       "      <td>NaN</td>\n",
       "      <td>NaN</td>\n",
       "      <td>NaN</td>\n",
       "    </tr>\n",
       "    <tr>\n",
       "      <td>3DO</td>\n",
       "      <td>NaN</td>\n",
       "      <td>NaN</td>\n",
       "      <td>NaN</td>\n",
       "      <td>NaN</td>\n",
       "      <td>NaN</td>\n",
       "      <td>NaN</td>\n",
       "      <td>NaN</td>\n",
       "      <td>NaN</td>\n",
       "      <td>NaN</td>\n",
       "      <td>NaN</td>\n",
       "      <td>...</td>\n",
       "      <td>NaN</td>\n",
       "      <td>NaN</td>\n",
       "      <td>NaN</td>\n",
       "      <td>NaN</td>\n",
       "      <td>NaN</td>\n",
       "      <td>NaN</td>\n",
       "      <td>NaN</td>\n",
       "      <td>NaN</td>\n",
       "      <td>NaN</td>\n",
       "      <td>NaN</td>\n",
       "    </tr>\n",
       "    <tr>\n",
       "      <td>3DS</td>\n",
       "      <td>NaN</td>\n",
       "      <td>NaN</td>\n",
       "      <td>NaN</td>\n",
       "      <td>NaN</td>\n",
       "      <td>NaN</td>\n",
       "      <td>NaN</td>\n",
       "      <td>NaN</td>\n",
       "      <td>NaN</td>\n",
       "      <td>NaN</td>\n",
       "      <td>NaN</td>\n",
       "      <td>...</td>\n",
       "      <td>NaN</td>\n",
       "      <td>NaN</td>\n",
       "      <td>NaN</td>\n",
       "      <td>NaN</td>\n",
       "      <td>63.20</td>\n",
       "      <td>51.36</td>\n",
       "      <td>56.57</td>\n",
       "      <td>43.76</td>\n",
       "      <td>27.78</td>\n",
       "      <td>15.14</td>\n",
       "    </tr>\n",
       "    <tr>\n",
       "      <td>DC</td>\n",
       "      <td>NaN</td>\n",
       "      <td>NaN</td>\n",
       "      <td>NaN</td>\n",
       "      <td>NaN</td>\n",
       "      <td>NaN</td>\n",
       "      <td>NaN</td>\n",
       "      <td>NaN</td>\n",
       "      <td>NaN</td>\n",
       "      <td>NaN</td>\n",
       "      <td>NaN</td>\n",
       "      <td>...</td>\n",
       "      <td>0.02</td>\n",
       "      <td>0.04</td>\n",
       "      <td>NaN</td>\n",
       "      <td>NaN</td>\n",
       "      <td>NaN</td>\n",
       "      <td>NaN</td>\n",
       "      <td>NaN</td>\n",
       "      <td>NaN</td>\n",
       "      <td>NaN</td>\n",
       "      <td>NaN</td>\n",
       "    </tr>\n",
       "    <tr>\n",
       "      <td>DS</td>\n",
       "      <td>NaN</td>\n",
       "      <td>NaN</td>\n",
       "      <td>NaN</td>\n",
       "      <td>NaN</td>\n",
       "      <td>NaN</td>\n",
       "      <td>0.02</td>\n",
       "      <td>NaN</td>\n",
       "      <td>NaN</td>\n",
       "      <td>NaN</td>\n",
       "      <td>NaN</td>\n",
       "      <td>...</td>\n",
       "      <td>146.94</td>\n",
       "      <td>145.31</td>\n",
       "      <td>119.54</td>\n",
       "      <td>85.02</td>\n",
       "      <td>26.18</td>\n",
       "      <td>11.01</td>\n",
       "      <td>1.54</td>\n",
       "      <td>NaN</td>\n",
       "      <td>NaN</td>\n",
       "      <td>NaN</td>\n",
       "    </tr>\n",
       "    <tr>\n",
       "      <td>GB</td>\n",
       "      <td>NaN</td>\n",
       "      <td>NaN</td>\n",
       "      <td>NaN</td>\n",
       "      <td>NaN</td>\n",
       "      <td>NaN</td>\n",
       "      <td>NaN</td>\n",
       "      <td>NaN</td>\n",
       "      <td>NaN</td>\n",
       "      <td>1.43</td>\n",
       "      <td>64.97</td>\n",
       "      <td>...</td>\n",
       "      <td>NaN</td>\n",
       "      <td>NaN</td>\n",
       "      <td>NaN</td>\n",
       "      <td>NaN</td>\n",
       "      <td>NaN</td>\n",
       "      <td>NaN</td>\n",
       "      <td>NaN</td>\n",
       "      <td>NaN</td>\n",
       "      <td>NaN</td>\n",
       "      <td>NaN</td>\n",
       "    </tr>\n",
       "    <tr>\n",
       "      <td>GBA</td>\n",
       "      <td>NaN</td>\n",
       "      <td>NaN</td>\n",
       "      <td>NaN</td>\n",
       "      <td>NaN</td>\n",
       "      <td>NaN</td>\n",
       "      <td>NaN</td>\n",
       "      <td>NaN</td>\n",
       "      <td>NaN</td>\n",
       "      <td>NaN</td>\n",
       "      <td>NaN</td>\n",
       "      <td>...</td>\n",
       "      <td>3.40</td>\n",
       "      <td>NaN</td>\n",
       "      <td>NaN</td>\n",
       "      <td>NaN</td>\n",
       "      <td>NaN</td>\n",
       "      <td>NaN</td>\n",
       "      <td>NaN</td>\n",
       "      <td>NaN</td>\n",
       "      <td>NaN</td>\n",
       "      <td>NaN</td>\n",
       "    </tr>\n",
       "    <tr>\n",
       "      <td>GC</td>\n",
       "      <td>NaN</td>\n",
       "      <td>NaN</td>\n",
       "      <td>NaN</td>\n",
       "      <td>NaN</td>\n",
       "      <td>NaN</td>\n",
       "      <td>NaN</td>\n",
       "      <td>NaN</td>\n",
       "      <td>NaN</td>\n",
       "      <td>NaN</td>\n",
       "      <td>NaN</td>\n",
       "      <td>...</td>\n",
       "      <td>0.27</td>\n",
       "      <td>NaN</td>\n",
       "      <td>NaN</td>\n",
       "      <td>NaN</td>\n",
       "      <td>NaN</td>\n",
       "      <td>NaN</td>\n",
       "      <td>NaN</td>\n",
       "      <td>NaN</td>\n",
       "      <td>NaN</td>\n",
       "      <td>NaN</td>\n",
       "    </tr>\n",
       "    <tr>\n",
       "      <td>GEN</td>\n",
       "      <td>NaN</td>\n",
       "      <td>NaN</td>\n",
       "      <td>NaN</td>\n",
       "      <td>NaN</td>\n",
       "      <td>NaN</td>\n",
       "      <td>NaN</td>\n",
       "      <td>NaN</td>\n",
       "      <td>NaN</td>\n",
       "      <td>NaN</td>\n",
       "      <td>NaN</td>\n",
       "      <td>...</td>\n",
       "      <td>NaN</td>\n",
       "      <td>NaN</td>\n",
       "      <td>NaN</td>\n",
       "      <td>NaN</td>\n",
       "      <td>NaN</td>\n",
       "      <td>NaN</td>\n",
       "      <td>NaN</td>\n",
       "      <td>NaN</td>\n",
       "      <td>NaN</td>\n",
       "      <td>NaN</td>\n",
       "    </tr>\n",
       "    <tr>\n",
       "      <td>GG</td>\n",
       "      <td>NaN</td>\n",
       "      <td>NaN</td>\n",
       "      <td>NaN</td>\n",
       "      <td>NaN</td>\n",
       "      <td>NaN</td>\n",
       "      <td>NaN</td>\n",
       "      <td>NaN</td>\n",
       "      <td>NaN</td>\n",
       "      <td>NaN</td>\n",
       "      <td>NaN</td>\n",
       "      <td>...</td>\n",
       "      <td>NaN</td>\n",
       "      <td>NaN</td>\n",
       "      <td>NaN</td>\n",
       "      <td>NaN</td>\n",
       "      <td>NaN</td>\n",
       "      <td>NaN</td>\n",
       "      <td>NaN</td>\n",
       "      <td>NaN</td>\n",
       "      <td>NaN</td>\n",
       "      <td>NaN</td>\n",
       "    </tr>\n",
       "    <tr>\n",
       "      <td>N64</td>\n",
       "      <td>NaN</td>\n",
       "      <td>NaN</td>\n",
       "      <td>NaN</td>\n",
       "      <td>NaN</td>\n",
       "      <td>NaN</td>\n",
       "      <td>NaN</td>\n",
       "      <td>NaN</td>\n",
       "      <td>NaN</td>\n",
       "      <td>NaN</td>\n",
       "      <td>NaN</td>\n",
       "      <td>...</td>\n",
       "      <td>NaN</td>\n",
       "      <td>NaN</td>\n",
       "      <td>NaN</td>\n",
       "      <td>NaN</td>\n",
       "      <td>NaN</td>\n",
       "      <td>NaN</td>\n",
       "      <td>NaN</td>\n",
       "      <td>NaN</td>\n",
       "      <td>NaN</td>\n",
       "      <td>NaN</td>\n",
       "    </tr>\n",
       "    <tr>\n",
       "      <td>NES</td>\n",
       "      <td>NaN</td>\n",
       "      <td>NaN</td>\n",
       "      <td>NaN</td>\n",
       "      <td>10.96</td>\n",
       "      <td>50.08</td>\n",
       "      <td>53.44</td>\n",
       "      <td>36.41</td>\n",
       "      <td>19.76</td>\n",
       "      <td>45.01</td>\n",
       "      <td>7.85</td>\n",
       "      <td>...</td>\n",
       "      <td>NaN</td>\n",
       "      <td>NaN</td>\n",
       "      <td>NaN</td>\n",
       "      <td>NaN</td>\n",
       "      <td>NaN</td>\n",
       "      <td>NaN</td>\n",
       "      <td>NaN</td>\n",
       "      <td>NaN</td>\n",
       "      <td>NaN</td>\n",
       "      <td>NaN</td>\n",
       "    </tr>\n",
       "    <tr>\n",
       "      <td>NG</td>\n",
       "      <td>NaN</td>\n",
       "      <td>NaN</td>\n",
       "      <td>NaN</td>\n",
       "      <td>NaN</td>\n",
       "      <td>NaN</td>\n",
       "      <td>NaN</td>\n",
       "      <td>NaN</td>\n",
       "      <td>NaN</td>\n",
       "      <td>NaN</td>\n",
       "      <td>NaN</td>\n",
       "      <td>...</td>\n",
       "      <td>NaN</td>\n",
       "      <td>NaN</td>\n",
       "      <td>NaN</td>\n",
       "      <td>NaN</td>\n",
       "      <td>NaN</td>\n",
       "      <td>NaN</td>\n",
       "      <td>NaN</td>\n",
       "      <td>NaN</td>\n",
       "      <td>NaN</td>\n",
       "      <td>NaN</td>\n",
       "    </tr>\n",
       "    <tr>\n",
       "      <td>PC</td>\n",
       "      <td>NaN</td>\n",
       "      <td>NaN</td>\n",
       "      <td>NaN</td>\n",
       "      <td>NaN</td>\n",
       "      <td>NaN</td>\n",
       "      <td>0.04</td>\n",
       "      <td>NaN</td>\n",
       "      <td>NaN</td>\n",
       "      <td>0.03</td>\n",
       "      <td>NaN</td>\n",
       "      <td>...</td>\n",
       "      <td>9.28</td>\n",
       "      <td>12.42</td>\n",
       "      <td>16.91</td>\n",
       "      <td>24.28</td>\n",
       "      <td>35.03</td>\n",
       "      <td>23.22</td>\n",
       "      <td>12.38</td>\n",
       "      <td>13.28</td>\n",
       "      <td>8.52</td>\n",
       "      <td>5.25</td>\n",
       "    </tr>\n",
       "    <tr>\n",
       "      <td>PCFX</td>\n",
       "      <td>NaN</td>\n",
       "      <td>NaN</td>\n",
       "      <td>NaN</td>\n",
       "      <td>NaN</td>\n",
       "      <td>NaN</td>\n",
       "      <td>NaN</td>\n",
       "      <td>NaN</td>\n",
       "      <td>NaN</td>\n",
       "      <td>NaN</td>\n",
       "      <td>NaN</td>\n",
       "      <td>...</td>\n",
       "      <td>NaN</td>\n",
       "      <td>NaN</td>\n",
       "      <td>NaN</td>\n",
       "      <td>NaN</td>\n",
       "      <td>NaN</td>\n",
       "      <td>NaN</td>\n",
       "      <td>NaN</td>\n",
       "      <td>NaN</td>\n",
       "      <td>NaN</td>\n",
       "      <td>NaN</td>\n",
       "    </tr>\n",
       "    <tr>\n",
       "      <td>PS</td>\n",
       "      <td>NaN</td>\n",
       "      <td>NaN</td>\n",
       "      <td>NaN</td>\n",
       "      <td>NaN</td>\n",
       "      <td>NaN</td>\n",
       "      <td>NaN</td>\n",
       "      <td>NaN</td>\n",
       "      <td>NaN</td>\n",
       "      <td>NaN</td>\n",
       "      <td>NaN</td>\n",
       "      <td>...</td>\n",
       "      <td>NaN</td>\n",
       "      <td>NaN</td>\n",
       "      <td>NaN</td>\n",
       "      <td>NaN</td>\n",
       "      <td>NaN</td>\n",
       "      <td>NaN</td>\n",
       "      <td>NaN</td>\n",
       "      <td>NaN</td>\n",
       "      <td>NaN</td>\n",
       "      <td>NaN</td>\n",
       "    </tr>\n",
       "    <tr>\n",
       "      <td>PS2</td>\n",
       "      <td>NaN</td>\n",
       "      <td>NaN</td>\n",
       "      <td>NaN</td>\n",
       "      <td>NaN</td>\n",
       "      <td>NaN</td>\n",
       "      <td>NaN</td>\n",
       "      <td>NaN</td>\n",
       "      <td>NaN</td>\n",
       "      <td>NaN</td>\n",
       "      <td>NaN</td>\n",
       "      <td>...</td>\n",
       "      <td>75.99</td>\n",
       "      <td>53.90</td>\n",
       "      <td>26.40</td>\n",
       "      <td>5.64</td>\n",
       "      <td>0.45</td>\n",
       "      <td>NaN</td>\n",
       "      <td>NaN</td>\n",
       "      <td>NaN</td>\n",
       "      <td>NaN</td>\n",
       "      <td>NaN</td>\n",
       "    </tr>\n",
       "    <tr>\n",
       "      <td>PS3</td>\n",
       "      <td>NaN</td>\n",
       "      <td>NaN</td>\n",
       "      <td>NaN</td>\n",
       "      <td>NaN</td>\n",
       "      <td>NaN</td>\n",
       "      <td>NaN</td>\n",
       "      <td>NaN</td>\n",
       "      <td>NaN</td>\n",
       "      <td>NaN</td>\n",
       "      <td>NaN</td>\n",
       "      <td>...</td>\n",
       "      <td>73.19</td>\n",
       "      <td>118.52</td>\n",
       "      <td>130.93</td>\n",
       "      <td>142.17</td>\n",
       "      <td>156.78</td>\n",
       "      <td>107.36</td>\n",
       "      <td>113.25</td>\n",
       "      <td>47.76</td>\n",
       "      <td>16.82</td>\n",
       "      <td>3.60</td>\n",
       "    </tr>\n",
       "    <tr>\n",
       "      <td>PS4</td>\n",
       "      <td>NaN</td>\n",
       "      <td>NaN</td>\n",
       "      <td>NaN</td>\n",
       "      <td>NaN</td>\n",
       "      <td>NaN</td>\n",
       "      <td>NaN</td>\n",
       "      <td>NaN</td>\n",
       "      <td>NaN</td>\n",
       "      <td>NaN</td>\n",
       "      <td>NaN</td>\n",
       "      <td>...</td>\n",
       "      <td>NaN</td>\n",
       "      <td>NaN</td>\n",
       "      <td>NaN</td>\n",
       "      <td>NaN</td>\n",
       "      <td>NaN</td>\n",
       "      <td>NaN</td>\n",
       "      <td>25.99</td>\n",
       "      <td>100.00</td>\n",
       "      <td>118.90</td>\n",
       "      <td>69.25</td>\n",
       "    </tr>\n",
       "    <tr>\n",
       "      <td>PSP</td>\n",
       "      <td>NaN</td>\n",
       "      <td>NaN</td>\n",
       "      <td>NaN</td>\n",
       "      <td>NaN</td>\n",
       "      <td>NaN</td>\n",
       "      <td>NaN</td>\n",
       "      <td>NaN</td>\n",
       "      <td>NaN</td>\n",
       "      <td>NaN</td>\n",
       "      <td>NaN</td>\n",
       "      <td>...</td>\n",
       "      <td>46.93</td>\n",
       "      <td>34.55</td>\n",
       "      <td>37.78</td>\n",
       "      <td>35.04</td>\n",
       "      <td>17.82</td>\n",
       "      <td>7.69</td>\n",
       "      <td>3.14</td>\n",
       "      <td>0.24</td>\n",
       "      <td>0.12</td>\n",
       "      <td>NaN</td>\n",
       "    </tr>\n",
       "    <tr>\n",
       "      <td>PSV</td>\n",
       "      <td>NaN</td>\n",
       "      <td>NaN</td>\n",
       "      <td>NaN</td>\n",
       "      <td>NaN</td>\n",
       "      <td>NaN</td>\n",
       "      <td>NaN</td>\n",
       "      <td>NaN</td>\n",
       "      <td>NaN</td>\n",
       "      <td>NaN</td>\n",
       "      <td>NaN</td>\n",
       "      <td>...</td>\n",
       "      <td>NaN</td>\n",
       "      <td>NaN</td>\n",
       "      <td>NaN</td>\n",
       "      <td>NaN</td>\n",
       "      <td>4.63</td>\n",
       "      <td>16.19</td>\n",
       "      <td>10.59</td>\n",
       "      <td>11.90</td>\n",
       "      <td>6.25</td>\n",
       "      <td>4.25</td>\n",
       "    </tr>\n",
       "    <tr>\n",
       "      <td>SAT</td>\n",
       "      <td>NaN</td>\n",
       "      <td>NaN</td>\n",
       "      <td>NaN</td>\n",
       "      <td>NaN</td>\n",
       "      <td>NaN</td>\n",
       "      <td>NaN</td>\n",
       "      <td>NaN</td>\n",
       "      <td>NaN</td>\n",
       "      <td>NaN</td>\n",
       "      <td>NaN</td>\n",
       "      <td>...</td>\n",
       "      <td>NaN</td>\n",
       "      <td>NaN</td>\n",
       "      <td>NaN</td>\n",
       "      <td>NaN</td>\n",
       "      <td>NaN</td>\n",
       "      <td>NaN</td>\n",
       "      <td>NaN</td>\n",
       "      <td>NaN</td>\n",
       "      <td>NaN</td>\n",
       "      <td>NaN</td>\n",
       "    </tr>\n",
       "    <tr>\n",
       "      <td>SCD</td>\n",
       "      <td>NaN</td>\n",
       "      <td>NaN</td>\n",
       "      <td>NaN</td>\n",
       "      <td>NaN</td>\n",
       "      <td>NaN</td>\n",
       "      <td>NaN</td>\n",
       "      <td>NaN</td>\n",
       "      <td>NaN</td>\n",
       "      <td>NaN</td>\n",
       "      <td>NaN</td>\n",
       "      <td>...</td>\n",
       "      <td>NaN</td>\n",
       "      <td>NaN</td>\n",
       "      <td>NaN</td>\n",
       "      <td>NaN</td>\n",
       "      <td>NaN</td>\n",
       "      <td>NaN</td>\n",
       "      <td>NaN</td>\n",
       "      <td>NaN</td>\n",
       "      <td>NaN</td>\n",
       "      <td>NaN</td>\n",
       "    </tr>\n",
       "    <tr>\n",
       "      <td>SNES</td>\n",
       "      <td>NaN</td>\n",
       "      <td>NaN</td>\n",
       "      <td>NaN</td>\n",
       "      <td>NaN</td>\n",
       "      <td>NaN</td>\n",
       "      <td>NaN</td>\n",
       "      <td>NaN</td>\n",
       "      <td>NaN</td>\n",
       "      <td>NaN</td>\n",
       "      <td>NaN</td>\n",
       "      <td>...</td>\n",
       "      <td>NaN</td>\n",
       "      <td>NaN</td>\n",
       "      <td>NaN</td>\n",
       "      <td>NaN</td>\n",
       "      <td>NaN</td>\n",
       "      <td>NaN</td>\n",
       "      <td>NaN</td>\n",
       "      <td>NaN</td>\n",
       "      <td>NaN</td>\n",
       "      <td>NaN</td>\n",
       "    </tr>\n",
       "    <tr>\n",
       "      <td>TG16</td>\n",
       "      <td>NaN</td>\n",
       "      <td>NaN</td>\n",
       "      <td>NaN</td>\n",
       "      <td>NaN</td>\n",
       "      <td>NaN</td>\n",
       "      <td>NaN</td>\n",
       "      <td>NaN</td>\n",
       "      <td>NaN</td>\n",
       "      <td>NaN</td>\n",
       "      <td>NaN</td>\n",
       "      <td>...</td>\n",
       "      <td>NaN</td>\n",
       "      <td>NaN</td>\n",
       "      <td>NaN</td>\n",
       "      <td>NaN</td>\n",
       "      <td>NaN</td>\n",
       "      <td>NaN</td>\n",
       "      <td>NaN</td>\n",
       "      <td>NaN</td>\n",
       "      <td>NaN</td>\n",
       "      <td>NaN</td>\n",
       "    </tr>\n",
       "    <tr>\n",
       "      <td>WS</td>\n",
       "      <td>NaN</td>\n",
       "      <td>NaN</td>\n",
       "      <td>NaN</td>\n",
       "      <td>NaN</td>\n",
       "      <td>NaN</td>\n",
       "      <td>NaN</td>\n",
       "      <td>NaN</td>\n",
       "      <td>NaN</td>\n",
       "      <td>NaN</td>\n",
       "      <td>NaN</td>\n",
       "      <td>...</td>\n",
       "      <td>NaN</td>\n",
       "      <td>NaN</td>\n",
       "      <td>NaN</td>\n",
       "      <td>NaN</td>\n",
       "      <td>NaN</td>\n",
       "      <td>NaN</td>\n",
       "      <td>NaN</td>\n",
       "      <td>NaN</td>\n",
       "      <td>NaN</td>\n",
       "      <td>NaN</td>\n",
       "    </tr>\n",
       "    <tr>\n",
       "      <td>Wii</td>\n",
       "      <td>NaN</td>\n",
       "      <td>NaN</td>\n",
       "      <td>NaN</td>\n",
       "      <td>NaN</td>\n",
       "      <td>NaN</td>\n",
       "      <td>NaN</td>\n",
       "      <td>NaN</td>\n",
       "      <td>NaN</td>\n",
       "      <td>NaN</td>\n",
       "      <td>NaN</td>\n",
       "      <td>...</td>\n",
       "      <td>152.77</td>\n",
       "      <td>171.32</td>\n",
       "      <td>206.97</td>\n",
       "      <td>127.95</td>\n",
       "      <td>59.65</td>\n",
       "      <td>21.71</td>\n",
       "      <td>8.59</td>\n",
       "      <td>3.75</td>\n",
       "      <td>1.14</td>\n",
       "      <td>0.18</td>\n",
       "    </tr>\n",
       "    <tr>\n",
       "      <td>WiiU</td>\n",
       "      <td>NaN</td>\n",
       "      <td>NaN</td>\n",
       "      <td>NaN</td>\n",
       "      <td>NaN</td>\n",
       "      <td>NaN</td>\n",
       "      <td>NaN</td>\n",
       "      <td>NaN</td>\n",
       "      <td>NaN</td>\n",
       "      <td>NaN</td>\n",
       "      <td>NaN</td>\n",
       "      <td>...</td>\n",
       "      <td>NaN</td>\n",
       "      <td>NaN</td>\n",
       "      <td>NaN</td>\n",
       "      <td>NaN</td>\n",
       "      <td>NaN</td>\n",
       "      <td>17.56</td>\n",
       "      <td>21.65</td>\n",
       "      <td>22.03</td>\n",
       "      <td>16.35</td>\n",
       "      <td>4.60</td>\n",
       "    </tr>\n",
       "    <tr>\n",
       "      <td>X360</td>\n",
       "      <td>NaN</td>\n",
       "      <td>NaN</td>\n",
       "      <td>NaN</td>\n",
       "      <td>NaN</td>\n",
       "      <td>NaN</td>\n",
       "      <td>NaN</td>\n",
       "      <td>NaN</td>\n",
       "      <td>NaN</td>\n",
       "      <td>NaN</td>\n",
       "      <td>NaN</td>\n",
       "      <td>...</td>\n",
       "      <td>95.41</td>\n",
       "      <td>135.26</td>\n",
       "      <td>120.29</td>\n",
       "      <td>170.03</td>\n",
       "      <td>143.84</td>\n",
       "      <td>99.74</td>\n",
       "      <td>88.58</td>\n",
       "      <td>34.74</td>\n",
       "      <td>11.96</td>\n",
       "      <td>1.52</td>\n",
       "    </tr>\n",
       "    <tr>\n",
       "      <td>XB</td>\n",
       "      <td>NaN</td>\n",
       "      <td>NaN</td>\n",
       "      <td>NaN</td>\n",
       "      <td>NaN</td>\n",
       "      <td>NaN</td>\n",
       "      <td>NaN</td>\n",
       "      <td>NaN</td>\n",
       "      <td>NaN</td>\n",
       "      <td>NaN</td>\n",
       "      <td>NaN</td>\n",
       "      <td>...</td>\n",
       "      <td>0.55</td>\n",
       "      <td>0.18</td>\n",
       "      <td>NaN</td>\n",
       "      <td>NaN</td>\n",
       "      <td>NaN</td>\n",
       "      <td>NaN</td>\n",
       "      <td>NaN</td>\n",
       "      <td>NaN</td>\n",
       "      <td>NaN</td>\n",
       "      <td>NaN</td>\n",
       "    </tr>\n",
       "    <tr>\n",
       "      <td>XOne</td>\n",
       "      <td>NaN</td>\n",
       "      <td>NaN</td>\n",
       "      <td>NaN</td>\n",
       "      <td>NaN</td>\n",
       "      <td>NaN</td>\n",
       "      <td>NaN</td>\n",
       "      <td>NaN</td>\n",
       "      <td>NaN</td>\n",
       "      <td>NaN</td>\n",
       "      <td>NaN</td>\n",
       "      <td>...</td>\n",
       "      <td>NaN</td>\n",
       "      <td>NaN</td>\n",
       "      <td>NaN</td>\n",
       "      <td>NaN</td>\n",
       "      <td>NaN</td>\n",
       "      <td>NaN</td>\n",
       "      <td>18.96</td>\n",
       "      <td>54.07</td>\n",
       "      <td>60.14</td>\n",
       "      <td>26.15</td>\n",
       "    </tr>\n",
       "  </tbody>\n",
       "</table>\n",
       "<p>31 rows × 37 columns</p>\n",
       "</div>"
      ],
      "text/plain": [
       "year_of_release   1980   1981   1982   1983   1984   1985   1986   1987  \\\n",
       "platform                                                                  \n",
       "2600             11.38  35.68  28.88   5.84   0.27   0.45   0.67   1.94   \n",
       "3DO                NaN    NaN    NaN    NaN    NaN    NaN    NaN    NaN   \n",
       "3DS                NaN    NaN    NaN    NaN    NaN    NaN    NaN    NaN   \n",
       "DC                 NaN    NaN    NaN    NaN    NaN    NaN    NaN    NaN   \n",
       "DS                 NaN    NaN    NaN    NaN    NaN   0.02    NaN    NaN   \n",
       "GB                 NaN    NaN    NaN    NaN    NaN    NaN    NaN    NaN   \n",
       "GBA                NaN    NaN    NaN    NaN    NaN    NaN    NaN    NaN   \n",
       "GC                 NaN    NaN    NaN    NaN    NaN    NaN    NaN    NaN   \n",
       "GEN                NaN    NaN    NaN    NaN    NaN    NaN    NaN    NaN   \n",
       "GG                 NaN    NaN    NaN    NaN    NaN    NaN    NaN    NaN   \n",
       "N64                NaN    NaN    NaN    NaN    NaN    NaN    NaN    NaN   \n",
       "NES                NaN    NaN    NaN  10.96  50.08  53.44  36.41  19.76   \n",
       "NG                 NaN    NaN    NaN    NaN    NaN    NaN    NaN    NaN   \n",
       "PC                 NaN    NaN    NaN    NaN    NaN   0.04    NaN    NaN   \n",
       "PCFX               NaN    NaN    NaN    NaN    NaN    NaN    NaN    NaN   \n",
       "PS                 NaN    NaN    NaN    NaN    NaN    NaN    NaN    NaN   \n",
       "PS2                NaN    NaN    NaN    NaN    NaN    NaN    NaN    NaN   \n",
       "PS3                NaN    NaN    NaN    NaN    NaN    NaN    NaN    NaN   \n",
       "PS4                NaN    NaN    NaN    NaN    NaN    NaN    NaN    NaN   \n",
       "PSP                NaN    NaN    NaN    NaN    NaN    NaN    NaN    NaN   \n",
       "PSV                NaN    NaN    NaN    NaN    NaN    NaN    NaN    NaN   \n",
       "SAT                NaN    NaN    NaN    NaN    NaN    NaN    NaN    NaN   \n",
       "SCD                NaN    NaN    NaN    NaN    NaN    NaN    NaN    NaN   \n",
       "SNES               NaN    NaN    NaN    NaN    NaN    NaN    NaN    NaN   \n",
       "TG16               NaN    NaN    NaN    NaN    NaN    NaN    NaN    NaN   \n",
       "WS                 NaN    NaN    NaN    NaN    NaN    NaN    NaN    NaN   \n",
       "Wii                NaN    NaN    NaN    NaN    NaN    NaN    NaN    NaN   \n",
       "WiiU               NaN    NaN    NaN    NaN    NaN    NaN    NaN    NaN   \n",
       "X360               NaN    NaN    NaN    NaN    NaN    NaN    NaN    NaN   \n",
       "XB                 NaN    NaN    NaN    NaN    NaN    NaN    NaN    NaN   \n",
       "XOne               NaN    NaN    NaN    NaN    NaN    NaN    NaN    NaN   \n",
       "\n",
       "year_of_release   1988   1989  ...    2007    2008    2009    2010    2011  \\\n",
       "platform                       ...                                           \n",
       "2600              0.74   0.63  ...     NaN     NaN     NaN     NaN     NaN   \n",
       "3DO                NaN    NaN  ...     NaN     NaN     NaN     NaN     NaN   \n",
       "3DS                NaN    NaN  ...     NaN     NaN     NaN     NaN   63.20   \n",
       "DC                 NaN    NaN  ...    0.02    0.04     NaN     NaN     NaN   \n",
       "DS                 NaN    NaN  ...  146.94  145.31  119.54   85.02   26.18   \n",
       "GB                1.43  64.97  ...     NaN     NaN     NaN     NaN     NaN   \n",
       "GBA                NaN    NaN  ...    3.40     NaN     NaN     NaN     NaN   \n",
       "GC                 NaN    NaN  ...    0.27     NaN     NaN     NaN     NaN   \n",
       "GEN                NaN    NaN  ...     NaN     NaN     NaN     NaN     NaN   \n",
       "GG                 NaN    NaN  ...     NaN     NaN     NaN     NaN     NaN   \n",
       "N64                NaN    NaN  ...     NaN     NaN     NaN     NaN     NaN   \n",
       "NES              45.01   7.85  ...     NaN     NaN     NaN     NaN     NaN   \n",
       "NG                 NaN    NaN  ...     NaN     NaN     NaN     NaN     NaN   \n",
       "PC                0.03    NaN  ...    9.28   12.42   16.91   24.28   35.03   \n",
       "PCFX               NaN    NaN  ...     NaN     NaN     NaN     NaN     NaN   \n",
       "PS                 NaN    NaN  ...     NaN     NaN     NaN     NaN     NaN   \n",
       "PS2                NaN    NaN  ...   75.99   53.90   26.40    5.64    0.45   \n",
       "PS3                NaN    NaN  ...   73.19  118.52  130.93  142.17  156.78   \n",
       "PS4                NaN    NaN  ...     NaN     NaN     NaN     NaN     NaN   \n",
       "PSP                NaN    NaN  ...   46.93   34.55   37.78   35.04   17.82   \n",
       "PSV                NaN    NaN  ...     NaN     NaN     NaN     NaN    4.63   \n",
       "SAT                NaN    NaN  ...     NaN     NaN     NaN     NaN     NaN   \n",
       "SCD                NaN    NaN  ...     NaN     NaN     NaN     NaN     NaN   \n",
       "SNES               NaN    NaN  ...     NaN     NaN     NaN     NaN     NaN   \n",
       "TG16               NaN    NaN  ...     NaN     NaN     NaN     NaN     NaN   \n",
       "WS                 NaN    NaN  ...     NaN     NaN     NaN     NaN     NaN   \n",
       "Wii                NaN    NaN  ...  152.77  171.32  206.97  127.95   59.65   \n",
       "WiiU               NaN    NaN  ...     NaN     NaN     NaN     NaN     NaN   \n",
       "X360               NaN    NaN  ...   95.41  135.26  120.29  170.03  143.84   \n",
       "XB                 NaN    NaN  ...    0.55    0.18     NaN     NaN     NaN   \n",
       "XOne               NaN    NaN  ...     NaN     NaN     NaN     NaN     NaN   \n",
       "\n",
       "year_of_release    2012    2013    2014    2015   2016  \n",
       "platform                                                \n",
       "2600                NaN     NaN     NaN     NaN    NaN  \n",
       "3DO                 NaN     NaN     NaN     NaN    NaN  \n",
       "3DS               51.36   56.57   43.76   27.78  15.14  \n",
       "DC                  NaN     NaN     NaN     NaN    NaN  \n",
       "DS                11.01    1.54     NaN     NaN    NaN  \n",
       "GB                  NaN     NaN     NaN     NaN    NaN  \n",
       "GBA                 NaN     NaN     NaN     NaN    NaN  \n",
       "GC                  NaN     NaN     NaN     NaN    NaN  \n",
       "GEN                 NaN     NaN     NaN     NaN    NaN  \n",
       "GG                  NaN     NaN     NaN     NaN    NaN  \n",
       "N64                 NaN     NaN     NaN     NaN    NaN  \n",
       "NES                 NaN     NaN     NaN     NaN    NaN  \n",
       "NG                  NaN     NaN     NaN     NaN    NaN  \n",
       "PC                23.22   12.38   13.28    8.52   5.25  \n",
       "PCFX                NaN     NaN     NaN     NaN    NaN  \n",
       "PS                  NaN     NaN     NaN     NaN    NaN  \n",
       "PS2                 NaN     NaN     NaN     NaN    NaN  \n",
       "PS3              107.36  113.25   47.76   16.82   3.60  \n",
       "PS4                 NaN   25.99  100.00  118.90  69.25  \n",
       "PSP                7.69    3.14    0.24    0.12    NaN  \n",
       "PSV               16.19   10.59   11.90    6.25   4.25  \n",
       "SAT                 NaN     NaN     NaN     NaN    NaN  \n",
       "SCD                 NaN     NaN     NaN     NaN    NaN  \n",
       "SNES                NaN     NaN     NaN     NaN    NaN  \n",
       "TG16                NaN     NaN     NaN     NaN    NaN  \n",
       "WS                  NaN     NaN     NaN     NaN    NaN  \n",
       "Wii               21.71    8.59    3.75    1.14   0.18  \n",
       "WiiU              17.56   21.65   22.03   16.35   4.60  \n",
       "X360              99.74   88.58   34.74   11.96   1.52  \n",
       "XB                  NaN     NaN     NaN     NaN    NaN  \n",
       "XOne                NaN   18.96   54.07   60.14  26.15  \n",
       "\n",
       "[31 rows x 37 columns]"
      ]
     },
     "execution_count": 11,
     "metadata": {},
     "output_type": "execute_result"
    }
   ],
   "source": [
    "# построим сводную таблицу\n",
    "df.pivot_table(index='platform', columns='year_of_release', values='total_sales', aggfunc='sum')"
   ]
  },
  {
   "cell_type": "markdown",
   "metadata": {},
   "source": [
    "Чтобы сделать вывод, данных пока слишком много. Чтобы определить платформы с наибольшими суммарными продажами, посмотрим общие продажи за весь период, без привязки к годам."
   ]
  },
  {
   "cell_type": "code",
   "execution_count": 12,
   "metadata": {},
   "outputs": [
    {
     "data": {
      "text/plain": [
       "platform\n",
       "PS2     1255.77\n",
       "X360     971.42\n",
       "PS3      939.65\n",
       "Wii      907.51\n",
       "DS       806.12\n",
       "PS       730.86\n",
       "GBA      317.85\n",
       "PS4      314.14\n",
       "PSP      294.05\n",
       "PC       259.52\n",
       "3DS      259.00\n",
       "XB       257.74\n",
       "GB       255.46\n",
       "NES      251.05\n",
       "N64      218.68\n",
       "SNES     200.04\n",
       "GC       198.93\n",
       "XOne     159.32\n",
       "2600      96.98\n",
       "WiiU      82.19\n",
       "PSV       54.07\n",
       "SAT       33.59\n",
       "GEN       30.77\n",
       "DC        15.95\n",
       "SCD        1.86\n",
       "NG         1.44\n",
       "WS         1.42\n",
       "TG16       0.16\n",
       "3DO        0.10\n",
       "GG         0.04\n",
       "PCFX       0.03\n",
       "Name: total_sales, dtype: float64"
      ]
     },
     "execution_count": 12,
     "metadata": {},
     "output_type": "execute_result"
    }
   ],
   "source": [
    "# группировка по платформам - вывод суммарных продаж - сортировка по убыванию\n",
    "df.groupby('platform')['total_sales'].sum().sort_values(ascending = False)"
   ]
  },
  {
   "cell_type": "markdown",
   "metadata": {},
   "source": [
    "Для лидеров топ-6 построим отдельные графики распределения продаж по годам.\n",
    "Возьмём первые 6 платформ, т.к. между шестой и седьмой позицией при сортировке значительный разрыв (PS: 730.86 млн долларов, GBA: 317.85 млн долларов), остальные данные отличаются не настолько сильно."
   ]
  },
  {
   "cell_type": "code",
   "execution_count": 13,
   "metadata": {},
   "outputs": [
    {
     "name": "stdout",
     "output_type": "stream",
     "text": [
      "                 total_sales\n",
      "year_of_release             \n",
      "2000                   39.17\n",
      "2001                  166.43\n",
      "2002                  205.38\n",
      "2003                  184.31\n",
      "2004                  211.81\n",
      "2005                  160.66\n",
      "2006                  103.42\n",
      "2007                   75.99\n",
      "2008                   53.90\n",
      "2009                   26.40\n",
      "2010                    5.64\n",
      "2011                    0.45\n",
      "AxesSubplot(0.125,0.125;0.775x0.755)\n"
     ]
    },
    {
     "data": {
      "image/png": "[encoded data removed]",
      "text/plain": [
       "<Figure size 432x288 with 1 Axes>"
      ]
     },
     "metadata": {
      "needs_background": "light"
     },
     "output_type": "display_data"
    }
   ],
   "source": [
    "print(df.query('platform == \"PS2\"').groupby('year_of_release').agg({'total_sales':'sum'}))\n",
    "print(df.query('platform == \"PS2\"').groupby('year_of_release').agg({'total_sales':'sum'}).plot(title='PS2', grid=True))"
   ]
  },
  {
   "cell_type": "code",
   "execution_count": 14,
   "metadata": {},
   "outputs": [
    {
     "name": "stdout",
     "output_type": "stream",
     "text": [
      "                 total_sales\n",
      "year_of_release             \n",
      "2005                    8.25\n",
      "2006                   51.62\n",
      "2007                   95.41\n",
      "2008                  135.26\n",
      "2009                  120.29\n",
      "2010                  170.03\n",
      "2011                  143.84\n",
      "2012                   99.74\n",
      "2013                   88.58\n",
      "2014                   34.74\n",
      "2015                   11.96\n",
      "2016                    1.52\n",
      "AxesSubplot(0.125,0.125;0.775x0.755)\n"
     ]
    },
    {
     "data": {
      "image/png": "[encoded data removed]",
      "text/plain": [
       "<Figure size 432x288 with 1 Axes>"
      ]
     },
     "metadata": {
      "needs_background": "light"
     },
     "output_type": "display_data"
    }
   ],
   "source": [
    "print(df.query('platform == \"X360\"').groupby('year_of_release').agg({'total_sales':'sum'}))\n",
    "print(df.query('platform == \"X360\"').groupby('year_of_release').agg({'total_sales':'sum'}).plot(title='X360', grid=True))"
   ]
  },
  {
   "cell_type": "code",
   "execution_count": 15,
   "metadata": {},
   "outputs": [
    {
     "name": "stdout",
     "output_type": "stream",
     "text": [
      "                 total_sales\n",
      "year_of_release             \n",
      "2006                   20.96\n",
      "2007                   73.19\n",
      "2008                  118.52\n",
      "2009                  130.93\n",
      "2010                  142.17\n",
      "2011                  156.78\n",
      "2012                  107.36\n",
      "2013                  113.25\n",
      "2014                   47.76\n",
      "2015                   16.82\n",
      "2016                    3.60\n",
      "AxesSubplot(0.125,0.125;0.775x0.755)\n"
     ]
    },
    {
     "data": {
      "image/png": "[encoded data removed]",
      "text/plain": [
       "<Figure size 432x288 with 1 Axes>"
      ]
     },
     "metadata": {
      "needs_background": "light"
     },
     "output_type": "display_data"
    }
   ],
   "source": [
    "print(df.query('platform == \"PS3\"').groupby('year_of_release').agg({'total_sales':'sum'}))\n",
    "print(df.query('platform == \"PS3\"').groupby('year_of_release').agg({'total_sales':'sum'}).plot(title='PS3', grid=True))"
   ]
  },
  {
   "cell_type": "code",
   "execution_count": 16,
   "metadata": {},
   "outputs": [
    {
     "name": "stdout",
     "output_type": "stream",
     "text": [
      "                 total_sales\n",
      "year_of_release             \n",
      "2006                  137.15\n",
      "2007                  152.77\n",
      "2008                  171.32\n",
      "2009                  206.97\n",
      "2010                  127.95\n",
      "2011                   59.65\n",
      "2012                   21.71\n",
      "2013                    8.59\n",
      "2014                    3.75\n",
      "2015                    1.14\n",
      "2016                    0.18\n",
      "AxesSubplot(0.125,0.125;0.775x0.755)\n"
     ]
    },
    {
     "data": {
      "image/png": "[encoded data removed]",
      "text/plain": [
       "<Figure size 432x288 with 1 Axes>"
      ]
     },
     "metadata": {
      "needs_background": "light"
     },
     "output_type": "display_data"
    }
   ],
   "source": [
    "print(df.query('platform == \"Wii\"').groupby('year_of_release').agg({'total_sales':'sum'}))\n",
    "print(df.query('platform == \"Wii\"').groupby('year_of_release').agg({'total_sales':'sum'}).plot(title='Wii', grid=True))"
   ]
  },
  {
   "cell_type": "code",
   "execution_count": 17,
   "metadata": {},
   "outputs": [
    {
     "name": "stdout",
     "output_type": "stream",
     "text": [
      "                 total_sales\n",
      "year_of_release             \n",
      "1985                    0.02\n",
      "2004                   17.27\n",
      "2005                  130.14\n",
      "2006                  119.81\n",
      "2007                  146.94\n",
      "2008                  145.31\n",
      "2009                  119.54\n",
      "2010                   85.02\n",
      "2011                   26.18\n",
      "2012                   11.01\n",
      "2013                    1.54\n",
      "AxesSubplot(0.125,0.125;0.775x0.755)\n"
     ]
    },
    {
     "data": {
      "image/png": "[encoded data removed]",
      "text/plain": [
       "<Figure size 432x288 with 1 Axes>"
      ]
     },
     "metadata": {
      "needs_background": "light"
     },
     "output_type": "display_data"
    }
   ],
   "source": [
    "print(df.query('platform == \"DS\"').groupby('year_of_release').agg({'total_sales':'sum'}))\n",
    "print(df.query('platform == \"DS\"').groupby('year_of_release').agg({'total_sales':'sum'}).plot(title='DS', grid=True))"
   ]
  },
  {
   "cell_type": "code",
   "execution_count": 18,
   "metadata": {},
   "outputs": [
    {
     "name": "stdout",
     "output_type": "stream",
     "text": [
      "                 total_sales\n",
      "year_of_release             \n",
      "1994                    6.03\n",
      "1995                   35.96\n",
      "1996                   94.70\n",
      "1997                  136.17\n",
      "1998                  169.49\n",
      "1999                  144.53\n",
      "2000                   96.37\n",
      "2001                   35.59\n",
      "2002                    6.67\n",
      "2003                    2.07\n",
      "AxesSubplot(0.125,0.125;0.775x0.755)\n"
     ]
    },
    {
     "data": {
      "image/png": "[encoded data removed]",
      "text/plain": [
       "<Figure size 432x288 with 1 Axes>"
      ]
     },
     "metadata": {
      "needs_background": "light"
     },
     "output_type": "display_data"
    }
   ],
   "source": [
    "print(df.query('platform == \"PS\"').groupby('year_of_release').agg({'total_sales':'sum'}))\n",
    "print(df.query('platform == \"PS\"').groupby('year_of_release').agg({'total_sales':'sum'}).plot(title='PS', grid=True))"
   ]
  },
  {
   "cell_type": "markdown",
   "metadata": {},
   "source": [
    "Если говорить про топ-6, то можно сделать вывод, после выхода какой-то консоли она может сделать очень большой объём продаж игр, но срок жизни ограничен. Необходимо отметить, что на всех графиках у правой границы значения приближаются к нулю. Действительно, на конец 2016-го года все консоли из списка уже потеряли в актуальности, какой-то объём удерживает только PS3.\n",
    "\n",
    "Если брать период популярности платформы, то в среднем консоль живёт 8-10 лет. Для сравнения посмотрим трёх лидеров за всё время:\n",
    "\n",
    "- PS2:\n",
    "\n",
    "период популярности: 2000-2008, два пика общих продаж - в 2002-м и в 2004-м году в мире было продано игр более, чем на 200 млн долларов;\n",
    "- X360:\n",
    "\n",
    "период популярности: 2005-2014, максимум в 2010-м году;\n",
    "- PS3:\n",
    "\n",
    "период популярности: 2006-2015."
   ]
  },
  {
   "cell_type": "markdown",
   "metadata": {},
   "source": [
    "<div class=\"alert alert-warning\">\n",
    "<font size=\"5\"><b>Комментарий ревьюера</b></font>\n",
    "\n",
    "Значение средней продолжительности существования платформы приведено. Однако выводы ты делаешь по графикам. Стоит также привести расчет данного значения. Подумай, стоит ли включать в расчет все платформы. Будут ли выбросы по продолжительности существования платформ?\n",
    "\n",
    "</div>\n",
    "\n",
    "\n",
    "<div class=\"alert alert-warning\">\n",
    "<font size=\"5\"><b>Комментарий обучающегося</b></font>\n",
    "\n",
    "До этого замечания я построил в одной ячейке шесть графиков, по отдельности для каждой платформы. Если для каждой платформы добавить ещё расчёт и вывод общих продаж, помимо графика, то лучше по каждой платформе сделать отденую ячейку с расчётом и с графиком. Также здесь я не стал строить один общий график с отображением на нём динамики шести платформ (такой график за выбранной период уже есть чуть ниже по всем актуальным на тот момент платформам), т.к. в задании необходимо выбрать топовые по продажам платформы и рассмотреть их по отдельности (найти популярные в прошлом платформы, у которых сейчас продажи на нуле; посчитать срок жизни платформы).\n",
    "    \n",
    "Для принятия решения, какие платформы считать топовыми по продажам и брать для дальнейшего анализа, сначала смотрю сумму продаж вообще по всем платформам. Дальнейший анализ уже только по выбранным шести.\n",
    "    \n",
    "Выброс по продолжительности существования платформ - это компьютерные игры. По ним отдельный небольшой анализ ниже.\n",
    "\n",
    "</div>"
   ]
  },
  {
   "cell_type": "markdown",
   "metadata": {},
   "source": [
    "При формулировании вывода о сроках жизни возникли некоторые мысли по поводу игр для PC. Посмотрим, как распределяются по времени продажи не для консолей."
   ]
  },
  {
   "cell_type": "code",
   "execution_count": 19,
   "metadata": {},
   "outputs": [
    {
     "data": {
      "text/plain": [
       "<matplotlib.axes._subplots.AxesSubplot at 0x7fb36dff7cd0>"
      ]
     },
     "execution_count": 19,
     "metadata": {},
     "output_type": "execute_result"
    },
    {
     "data": {
      "image/png": "[encoded data removed]",
      "text/plain": [
       "<Figure size 432x288 with 1 Axes>"
      ]
     },
     "metadata": {
      "needs_background": "light"
     },
     "output_type": "display_data"
    }
   ],
   "source": [
    "df.query('platform == \"PC\"').groupby('year_of_release').agg({'total_sales':'sum'}).plot(title='PC', grid=True)"
   ]
  },
  {
   "cell_type": "markdown",
   "metadata": {},
   "source": [
    "График протягивается на весь срок существования индустрии, начиная с 1985-го года. Пусть версии для персональных компьютеров почти никогда не входят в топ, но какой-то уровень продаж у них будет всегда."
   ]
  },
  {
   "cell_type": "markdown",
   "metadata": {},
   "source": [
    "Поскольку у нас неполные данные за 2016г., то для дальнейшего анализа данные за этот год необходимо убрать. В объёме продаж был значительный спад в 2012-м году, но по сравнению, например с девяностыми, продажи всё ещё на определённом уровне, поэтому оставляем последний год - 2015.\n",
    "\n",
    "Для дальнейшего анализа из трёх выраженных на графиках этапов развития игровой индустрии возьмём только последний по хронологии этап сокращения рынка продаж, после пиковых 2008-го и 2009-го годов.\n",
    "\n",
    "Изначально я хотел из исследованного топ-6 оставить топ-5, т.к. продажи по первой Play Station (PS) стремятся к нулю, начиная с 2003-го года. Но все платформы из суммарного топа продаж на начало 2016г. уже стали неактуальными: ни PS2, ни PS3, ни X360 нельзя рассматривать как перспективные. Поэтому проанализируем вообще все платформы - тогда мы найдём относительно новые платформы, которые показывают рост, но по общему объёму продаж ещё никак не могут приблизиться к лидерам, чьё время уже прошло."
   ]
  },
  {
   "cell_type": "code",
   "execution_count": 20,
   "metadata": {},
   "outputs": [],
   "source": [
    "# отфильтруем исходный датафрейм по выбранным условиям, далее работаем только с отфильтрованными данными\n",
    "df = df.loc[(df['year_of_release'] >= 2010) & (df['year_of_release'] <= 2015)]\n",
    "#df = df.loc[(df['year_of_release'] >= 2002) & (df['year_of_release'] <= 2015)]\n",
    "#df = df.loc[df['platform'].isin(['PS2', 'X360', 'PS3', 'Wii', 'DS'])]"
   ]
  },
  {
   "cell_type": "markdown",
   "metadata": {},
   "source": [
    "<div class=\"alert alert-danger\">\n",
    "<font size=\"5\"><b>Комментарий ревьюера</b></font>\n",
    "\n",
    "Актуальный период назван. Стоит его уменьшить. Сейчас у тебя в периоде содержится несколько этапов развития индустрии: рост до 2008 года, пик 2008 и 2009 годов, а также сокращение рынка последних годов. Также большей части платформ уже нет в 2016 году, в построении прогноза на 2017 год они нам не помогут. При уменьшении периода в рассмотрение попадут только последние поколения платформ, а также будем рассматривать только конечный на данный момент интервал развития игровой индустрии. \n",
    "\n",
    "</div>\n",
    "\n",
    "\n",
    "<div class=\"alert alert-danger\">\n",
    "<font size=\"5\"><b>Комментарий обучающегося</b></font>\n",
    "\n",
    "В двух ячейках выше я переписал обоснование выбранного периода и закомментировал свою первоначальную фильтрацию (тебе для сравнения). Если я правильно понял комментарий, то теперь вместо своего изначально выбранного периода [2002, 2015] использую [2010, 2015]. Далее весь дальнейший анализ и выводы изменены в соответствие с результатами анализа нового периода.\n",
    "\n",
    "</div>"
   ]
  },
  {
   "cell_type": "markdown",
   "metadata": {},
   "source": [
    "<div class=\"alert alert-success\">\n",
    "<font size=\"5\"><b>Комментарий ревьюера 2</b></font>\n",
    "\n",
    "Анализ такого периода позволит нам увеличить точность и качество прогноза на 2017 год.  \n",
    "\n",
    "</div>"
   ]
  },
  {
   "cell_type": "markdown",
   "metadata": {},
   "source": [
    "Необходимо определить, какие платформы лидируют по продажам на начало 2016 года (помним, что данные за 2016-й неполные), а также динамику для выбора потеницально прибыльных платформ."
   ]
  },
  {
   "cell_type": "code",
   "execution_count": 21,
   "metadata": {},
   "outputs": [
    {
     "data": {
      "text/plain": [
       "<matplotlib.legend.Legend at 0x7fb36df4a6d0>"
      ]
     },
     "execution_count": 21,
     "metadata": {},
     "output_type": "execute_result"
    },
    {
     "data": {
      "image/png": "[encoded data removed]",
      "text/plain": [
       "<Figure size 1296x648 with 1 Axes>"
      ]
     },
     "metadata": {
      "needs_background": "light"
     },
     "output_type": "display_data"
    }
   ],
   "source": [
    "# строим график суммарных продаж платформ-лидеров за выбранный период\n",
    "platforms = df['platform'].unique().tolist()\n",
    "ax = plt.gca()\n",
    "legend_list = []\n",
    "for platform in platforms:\n",
    "    df_to_plot = df.query('platform == @platform')\n",
    "    lines = df_to_plot.groupby('year_of_release')['total_sales'].sum().plot(x='year_of_release', y='total_sales',\n",
    "                                                                    style='o-', kind='line', fontsize=10,\n",
    "                                                                    linewidth=1, label=platform, ax=ax, figsize=(18,9))\n",
    "    legend_list.append(platform)\n",
    "    \n",
    "ax.set_xlabel('')\n",
    "ax.legend(legend_list, prop={'size':12}, bbox_to_anchor=(1.0, 1.0))"
   ]
  },
  {
   "cell_type": "markdown",
   "metadata": {},
   "source": [
    "На начало 2016-го года по лидерам продаж можно наблюдать отрицательную динамику - время этих консолей прошло, хотя раньше они выдавали хорошие результаты: PS2, PS3, Wii, X360. По польшинству остальных платформ график держится на одном и том же низком уровне - до 40 млн долларов суммарно в год.\n",
    "\n",
    "И только две консоли демонстрируют рост - это PS4 и XOne. Это объяснимо - по ним графики берут начало только в  2013-м году."
   ]
  },
  {
   "cell_type": "markdown",
   "metadata": {},
   "source": [
    "<div class=\"alert alert-success\">\n",
    "<font size=\"5\"><b>Комментарий ревьюера</b></font>\n",
    "\n",
    "Да, именно эти платформы мы и можем назвать перспективными на 2017 год. \n",
    "\n",
    "</div>"
   ]
  },
  {
   "cell_type": "markdown",
   "metadata": {},
   "source": [
    "В целом, не очень корректно анализировать данные и делать предсказания по таким данным уже в 2021-м году. На сегоня уже есть PS5, мы же делаем предсказание на данных пятилетней давности.. На тот момент потенциально прибыльными платформами можно было бы назвать PS4 и XOne. Однако, если бы мы обладали данными до начала 2021 года, за последние 5 лет по этим двум платформам, возможно, тоже было бы снижение."
   ]
  },
  {
   "cell_type": "markdown",
   "metadata": {},
   "source": [
    "<div class=\"alert alert-success\">\n",
    "<font size=\"5\"><b>Комментарий ревьюера</b></font>\n",
    "\n",
    "Мы делаем прогноз на 2017 год, а не на 2021. Так что тут никакой ошибки нет, но соглашусь, данные можно уже обновить. \n",
    "\n",
    "</div>"
   ]
  },
  {
   "cell_type": "markdown",
   "metadata": {},
   "source": [
    "Далее построим боксплоты по глобальным продажам каждой игры в разрезе платформ. Здесь точно нужно дополнительно урезать данные, иначе будет очень много разных визуализаций, и сложно будет сделать выводы. Как и задумывалось выше, остановимся на первых пяти платформах лидерах за рассматриваемый период."
   ]
  },
  {
   "cell_type": "markdown",
   "metadata": {},
   "source": [
    "<div class=\"alert alert-success\">\n",
    "<font size=\"5\"><b>Комментарий обучающегося</b></font>\n",
    "\n",
    "В первой версии файла в этом месте я урезал датафрейм:\n",
    "    \n",
    "(df = df.loc[df['platform'].isin(['PS2', 'X360', 'PS3', 'Wii', 'DS'])])\n",
    "    \n",
    "Оставлял только первые пять платформ из рейтинга общих продаж из-за того, что далее данных становилось достаточно много для визуального анализа, на графиках получалось нагромождение. При исправлении я уменьшил временной период рассматриваемых данных. В дальнейшем это привело к тому, что из датафрейма пропали данные, необходимые мне ниже для проверки гипотез. Таким образом, лучшим решением при исправлении получилось уменьшение временного периода, но фильт по платформам в этом месте нужно убрать, тем более, что в задании этого и не требовалось.\n",
    "\n",
    "</div>"
   ]
  },
  {
   "cell_type": "code",
   "execution_count": 22,
   "metadata": {},
   "outputs": [
    {
     "data": {
      "text/plain": [
       "(0, 3)"
      ]
     },
     "execution_count": 22,
     "metadata": {},
     "output_type": "execute_result"
    },
    {
     "data": {
      "image/png": "[encoded data removed]",
      "text/plain": [
       "<Figure size 1800x720 with 1 Axes>"
      ]
     },
     "metadata": {
      "needs_background": "light"
     },
     "output_type": "display_data"
    }
   ],
   "source": [
    "# строим боксплот с пятью платформами,\n",
    "# ограничим возможные значения по оси y, чтобы выбросы не сплющивали сами ящики\n",
    "warnings.filterwarnings(\"ignore\")\n",
    "query_condition = \"platform in @platforms\"\n",
    "df_query = df.query(query_condition)\n",
    "by_column = query_condition.split()[0]\n",
    "ax = df_query.boxplot(column='total_sales', by=by_column, fontsize=25, figsize=(25,10),\n",
    "                                         boxprops=dict(linestyle='-', linewidth=5),\n",
    "                                         medianprops=dict(linestyle='-', linewidth=5),\n",
    "                                         whiskerprops=dict(linestyle='-', linewidth=5),\n",
    "                                         capprops=dict(linestyle='-', linewidth=5),\n",
    "                                         notch=True)\n",
    "ax.set_xlabel('')\n",
    "ax.set_title('')\n",
    "ax.set_ylim([0,3])"
   ]
  },
  {
   "cell_type": "markdown",
   "metadata": {},
   "source": [
    "<div class=\"alert alert-success\">\n",
    "<font size=\"5\"><b>Комментарий ревьюера</b></font>\n",
    "\n",
    "С предупреждениями также стоит разобраться. Иногда их бывает слишком много, поэтому важно уметь их скрывать. В этом тебе поможет библиотека warnings. Попробуй найти подходящий метод и убрать предупреждения.  \n",
    "\n",
    "</div>\n",
    "\n",
    "\n",
    "<div class=\"alert alert-success\">\n",
    "<font size=\"5\"><b>Комментарий обучающегося</b></font>\n",
    "\n",
    "Изначально тут в ячейке с боксплотами было предупреждение насчёт совместимости версий питона. Обычно я обращаю внимание на то, что написано в варнингах. Согласен с тем, что для презентации ноутбука куда-либо в форме отчётного документа лучше, если предупреждений не будет.\n",
    "    \n",
    "Изучил описание и импортировал рекомендуемую тобой библиотеку. Поскольку нигде в других ячейках ноутбука больше предупреждений нет, в качестве костыля написал метод warnings.filterwarnings(\"ignore\") здесь, хотя, наверно, его следует прописать в самом начале ноутбука. Так тебе при проверке будет проще найти и разобраться, чем в начале ноутбука смотреть почему где-то там внизу вылезло предупреждение, и что с ним сделано.\n",
    "\n",
    "</div>"
   ]
  },
  {
   "cell_type": "markdown",
   "metadata": {},
   "source": [
    "<div class=\"alert alert-success\">\n",
    "<font size=\"5\"><b>Комментарий ревьюера 2</b></font>\n",
    "\n",
    "Лучше прописывать все же в начале проекта. Так ты скроешь не только предупреждение тут, но и те, которые могут быть и до этогоо места в проекте. \n",
    "\n",
    "</div>"
   ]
  },
  {
   "cell_type": "markdown",
   "metadata": {},
   "source": [
    "Максимальное значение выборки (без учёта выбросов) у пяти платформ превышает 1 млн долларов, при этом две из них (PS4 и XOne) превзошли отметку в 2 млн долларов. При этом разброс максимального значения по платформам достаточно большой и может отличаться в 10 раз: от ~2.5 млн (PS2) до 2.5 млн (PS4).\n",
    "\n",
    "75% данных (третий квартиль Q3) по всем платформам дают уже меньший разброс значений.\n",
    "\n",
    "Медианы у всех платформ отличаются ещё меньше: ни у одной приставки медианное значение не превышает 0.4 млн долларов."
   ]
  },
  {
   "cell_type": "markdown",
   "metadata": {},
   "source": [
    "<div class=\"alert alert-warning\">\n",
    "<font size=\"5\"><b>Комментарий ревьюера</b></font>\n",
    " \n",
    "Подумай, из-за чего формируется разница между платформами. Старайся не только описывать результат, но и трактовать его. \n",
    "\n",
    "</div>\n",
    "\n",
    "\n",
    "<div class=\"alert alert-warning\">\n",
    "<font size=\"5\"><b>Комментарий обучающегося</b></font>\n",
    " \n",
    "Добавил ячейку ниже.\n",
    "\n",
    "</div>"
   ]
  },
  {
   "cell_type": "markdown",
   "metadata": {},
   "source": [
    "На боксплотах видно, что платформы-лидеры по продажам отличаются от тех, которые были в списке выше (где лидерами были PS - 1255.77, X360 - 971.42, PS3 - 939.65). Это связано с тем, что сейчас мы обрезали временной период, по которому делаем анализ (2010 - 2015 гг.). Платформа-лидер за всё время (PS2) запускалась на рынок и выходила на пик задолго до 2010-го года, с которого мы начинаем строить боксплот, поэтому здесь PS2 является аутсайдром.\n",
    "\n",
    "У других лидеров (PS3 и X360) год начала выбранного временного периода (2010) является пиком продаж, т.е. в боксплот идёт примерно половина активного срока жизни.\n",
    "\n",
    "Обратная ситуация по нашим перспективным платформам (PS4 и XOne): они были запущены только в 2013-м году и за два года продемонстрировали активный рост, что позволило им занять лидирующие позиции в пятилетке.\n",
    "\n",
    "В топ-6 лидеров по общим продажам за весь срок у нас также были Wii, DS и PS. На боксплоте с 2010-го года у них сравнительно низкие позиции. Здесь причина та же (смотрим на графики выше топ-6 платформ по продажам за весь срок): пик продаж DS приходился на период с 2004-го по 2011-й годы, Wii - c 2006-го по 2011-й годы. Соответственно, эти периоды практически не попали в данные при построении ящика. PS вообще отсутствует на боксплоте, потому что это консоль из другого поколения, её время закончилось примерно в 2002-м году."
   ]
  },
  {
   "cell_type": "markdown",
   "metadata": {},
   "source": [
    "<div class=\"alert alert-success\">\n",
    "<font size=\"5\"><b>Комментарий ревьюера 2</b></font>\n",
    "\n",
    "Отличный разбор 👍 \n",
    "\n",
    "</div>"
   ]
  },
  {
   "cell_type": "markdown",
   "metadata": {},
   "source": [
    "Рассмотрим влияние отзывов на общие продажи игр. Для примера возьмём Xbox 360."
   ]
  },
  {
   "cell_type": "code",
   "execution_count": 23,
   "metadata": {},
   "outputs": [],
   "source": [
    "# фильтр по платформе\n",
    "x360 = df.query('platform == \"X360\"')"
   ]
  },
  {
   "cell_type": "code",
   "execution_count": 24,
   "metadata": {},
   "outputs": [
    {
     "data": {
      "text/plain": [
       "<matplotlib.axes._subplots.AxesSubplot at 0x7fb36c2567d0>"
      ]
     },
     "execution_count": 24,
     "metadata": {},
     "output_type": "execute_result"
    },
    {
     "data": {
      "image/png": "[encoded data removed]",
      "text/plain": [
       "<Figure size 1080x720 with 1 Axes>"
      ]
     },
     "metadata": {
      "needs_background": "light"
     },
     "output_type": "display_data"
    }
   ],
   "source": [
    "# диаграмма рассеяния взаимосвязи общих продаж от отзывов критиков\n",
    "x360.plot(x='critic_score', y='total_sales',\n",
    "          kind='scatter', figsize=(15,10),\n",
    "          title=\"X360 total sales by critic scores\", grid=True) "
   ]
  },
  {
   "cell_type": "code",
   "execution_count": 25,
   "metadata": {},
   "outputs": [
    {
     "data": {
      "text/plain": [
       "<matplotlib.axes._subplots.AxesSubplot at 0x7fb36c1d8dd0>"
      ]
     },
     "execution_count": 25,
     "metadata": {},
     "output_type": "execute_result"
    },
    {
     "data": {
      "image/png": "[encoded data removed]",
      "text/plain": [
       "<Figure size 1080x720 with 1 Axes>"
      ]
     },
     "metadata": {
      "needs_background": "light"
     },
     "output_type": "display_data"
    }
   ],
   "source": [
    "# аналогично посмотрим на отзывы пользователей\n",
    "x360.plot(x='user_score', y='total_sales',\n",
    "          kind='scatter', figsize=(15,10),\n",
    "          title=\"X360 total sales by critic scores\", grid=True) "
   ]
  },
  {
   "cell_type": "markdown",
   "metadata": {},
   "source": [
    "Также рассчитаем корреляцию между отзывами и продажами. Используем изученный коэффициент корреляции Пирсона между продажами и отзывами критиков/пользвателей."
   ]
  },
  {
   "cell_type": "code",
   "execution_count": 26,
   "metadata": {},
   "outputs": [
    {
     "name": "stdout",
     "output_type": "stream",
     "text": [
      "0.3400641581317536\n",
      "0.34006415813175367\n"
     ]
    }
   ],
   "source": [
    "print(x360['critic_score'].corr(x360['total_sales']))\n",
    "print(x360['total_sales'].corr(x360['critic_score']))"
   ]
  },
  {
   "cell_type": "code",
   "execution_count": 27,
   "metadata": {},
   "outputs": [
    {
     "name": "stdout",
     "output_type": "stream",
     "text": [
      "0.05976227707146129\n",
      "0.05976227707146129\n"
     ]
    }
   ],
   "source": [
    "print(x360['user_score'].corr(x360['total_sales']))\n",
    "print(x360['total_sales'].corr(x360['user_score']))"
   ]
  },
  {
   "cell_type": "markdown",
   "metadata": {},
   "source": [
    "Критики на то и критики, это какие-то более профессиональные пользователи, которые должны стараться объективно оценивать игры по определённым критериям, поэтому их мнение примерно однородно и результаты схожи. В целом тенденция такова, что получить высокие результаты продаж могут те игры, у которых высокие оценки критиков. В то же время можно отметить, что большинство значений по оси y, даже с высокими оценками, лежат невысоко по высоте продаж, очень много значений около нуля. Коэффициент корреляции 0.34 говорит о наличии взаимосвязи, но не очень сильной\n",
    "\n",
    "Пользователи же более склонны ставить оценки играм на основании каких-то личных, а не общих предпочтений, поэтому разброс значений на диаграмме рассеяния здесь выше. Отдельных выбросов значений продаж с не самыми высокими оценками здесь также больше, как и продаж на уровне до 3 млн долларов. В целом, тенденция также же, как и с отзывами критиков, только не столь ярко выраженная. Значение коэффициента корреляции 0.06 здесь лучше сранивать со значением 0.34 отзывов критиков, что также иллюстрирует, что, в целом, связь продаж и отзывов пользователей ещё меньше, чем связь оценок критиков: значение, близкое к нулю, не доказывает наличие какой-то выраженной причинно-следственной связи."
   ]
  },
  {
   "cell_type": "markdown",
   "metadata": {},
   "source": [
    "<div class=\"alert alert-danger\">\n",
    "<font size=\"5\"><b>Комментарий ревьюера</b></font>\n",
    "\n",
    "Результат получен. Подумай, чем он вызван. Стоит рассмотреть и другие платформы. Делать выводы лишь по одной из платформ мы не можем. \n",
    "\n",
    "</div>\n",
    "\n",
    "\n",
    "<div class=\"alert alert-danger\">\n",
    "<font size=\"5\"><b>Комментарий обучающегося</b></font>\n",
    "\n",
    "Немного расширил вывод по платформе X360. Для сравнения результатов влияния отзывов на общий объём продаж за рассматриваемый период с другими платформами посмотрим на ранее построенный боксплот по общим продажам топ-5 платформ. Можно было бы рассмотреть оставшиеся 4 платформы. Но, поскольку мною был урезан по срокам рассматриваемый период на 7 лет, полагаю, что для получения наиболее полной картины достаточно посмотреть значения платформ-лидеры (Wii и PS3), всё-таки DS и PS2 проседают довольно сильно.\n",
    "\n",
    "</div>"
   ]
  },
  {
   "cell_type": "code",
   "execution_count": 28,
   "metadata": {},
   "outputs": [
    {
     "name": "stdout",
     "output_type": "stream",
     "text": [
      "AxesSubplot(0.125,0.125;0.775x0.755)\n",
      "AxesSubplot(0.125,0.125;0.775x0.755)\n",
      "Корреляция отзывов критиков и общего объёма продаж по платформе PS3: 0.40059409352022496\n",
      "Корреляция отзывов пользователей и общего объёма продаж по платформе PS3: 0.05714003793914109\n"
     ]
    },
    {
     "data": {
      "image/png": "[encoded data removed]",
      "text/plain": [
       "<Figure size 1080x720 with 1 Axes>"
      ]
     },
     "metadata": {
      "needs_background": "light"
     },
     "output_type": "display_data"
    },
    {
     "data": {
      "image/png": "[encoded data removed]",
      "text/plain": [
       "<Figure size 1080x720 with 1 Axes>"
      ]
     },
     "metadata": {
      "needs_background": "light"
     },
     "output_type": "display_data"
    }
   ],
   "source": [
    "# аналогичная последовательность действий для PS3\n",
    "\n",
    "ps3 = df.query('platform == \"PS3\"')\n",
    "\n",
    "print(ps3.plot(x='critic_score', y='total_sales',\n",
    "          kind='scatter', figsize=(15,10),\n",
    "          title=\"PS3 total sales by critic scores\", grid=True))\n",
    "\n",
    "print(ps3.plot(x='user_score', y='total_sales',\n",
    "          kind='scatter', figsize=(15,10),\n",
    "          title=\"PS3 total sales by critic scores\", grid=True))\n",
    "\n",
    "print('Корреляция отзывов критиков и общего объёма продаж по платформе PS3:', ps3['critic_score'].corr(ps3['total_sales']))\n",
    "print('Корреляция отзывов пользователей и общего объёма продаж по платформе PS3:', ps3['user_score'].corr(ps3['total_sales']))"
   ]
  },
  {
   "cell_type": "code",
   "execution_count": 29,
   "metadata": {},
   "outputs": [
    {
     "name": "stdout",
     "output_type": "stream",
     "text": [
      "AxesSubplot(0.125,0.125;0.775x0.755)\n",
      "AxesSubplot(0.125,0.125;0.775x0.755)\n",
      "Корреляция отзывов критиков и общего объёма продаж по платформе Wii: 0.3105877104820997\n",
      "Корреляция отзывов пользователей и общего объёма продаж по платформе Wii: 0.14715977707531702\n"
     ]
    },
    {
     "data": {
      "image/png": "[encoded data removed]",
      "text/plain": [
       "<Figure size 1080x720 with 1 Axes>"
      ]
     },
     "metadata": {
      "needs_background": "light"
     },
     "output_type": "display_data"
    },
    {
     "data": {
      "image/png": "[encoded data removed]",
      "text/plain": [
       "<Figure size 1080x720 with 1 Axes>"
      ]
     },
     "metadata": {
      "needs_background": "light"
     },
     "output_type": "display_data"
    }
   ],
   "source": [
    "# ... и для Wii\n",
    "\n",
    "wii = df.query('platform == \"Wii\"')\n",
    "\n",
    "print(wii.plot(x='critic_score', y='total_sales',\n",
    "          kind='scatter', figsize=(15,10),\n",
    "          title=\"Wii total sales by critic scores\", grid=True))\n",
    "\n",
    "print(wii.plot(x='user_score', y='total_sales',\n",
    "          kind='scatter', figsize=(15,10),\n",
    "          title=\"Wii total sales by critic scores\", grid=True))\n",
    "\n",
    "print('Корреляция отзывов критиков и общего объёма продаж по платформе Wii:', wii['critic_score'].corr(wii['total_sales']))\n",
    "print('Корреляция отзывов пользователей и общего объёма продаж по платформе Wii:', wii['user_score'].corr(wii['total_sales']))"
   ]
  },
  {
   "cell_type": "markdown",
   "metadata": {},
   "source": [
    "Сравнение трёх платформ, в первую очередь, позволяет сразу сделать вывод, что различных значений (точек с разными расположениями) на диаграмме рассяния у лидера (X360) явно больше, чем у PS3 и Wii, что и очевидно, т.к. X360 - лидер по продажам за выбранный период.\n",
    "\n",
    "У PS3 продажи расположены кучнее, у критиков практически нет оценок ниже 40. Если говорить об общих тендециях, то обе диаграммы, в целом, повторяют диаграммы X360: в топ по продажам выходят игры с более высокими оценками критиков, зависимость более выражена. Оценки пользователей визуально имеют большую дисперсию, но в целом тендеция такая же, но менее выраженная. Это также подтверждается значениями коэффициента корреляции: у отзывов критиков значение ближе к 0.5, у пользователей корреляция близка к нулю.\n",
    "\n",
    "Платформа Wii более специфична. Здесь намного меньше высоких оценок критиков, оценок свыше 90 практически нет. Оценки пользователей, в целом, выше, чем у критиков. Явные тенденции зависимости на диаграммах Wii отследить сложнее, хотя коэффициенты корреляции сравнимы с X360 и PS3. Могу это связать с особенностью самой консоли: обладая контроллерами, реагирующими на движения игрока, Wii более ориентирована на подвижные игры, что несколько отличается от обычного профилирования игровых приставок. Соответственно, связь оценок и продаж получается более неоднозначной, одна и та же игра может получать бОльший разброс оценок."
   ]
  },
  {
   "cell_type": "markdown",
   "metadata": {},
   "source": [
    "<div class=\"alert alert-success\">\n",
    "<font size=\"5\"><b>Комментарий ревьюера 2</b></font>\n",
    "\n",
    "Результат по другим платформам подтверждает ранее сделанные выводы. \n",
    "\n",
    "</div>"
   ]
  },
  {
   "cell_type": "markdown",
   "metadata": {},
   "source": [
    "Посмотрим на распределение общих продаж игр в зависимости от жанра."
   ]
  },
  {
   "cell_type": "code",
   "execution_count": 30,
   "metadata": {},
   "outputs": [
    {
     "data": {
      "text/html": [
       "<div>\n",
       "<style scoped>\n",
       "    .dataframe tbody tr th:only-of-type {\n",
       "        vertical-align: middle;\n",
       "    }\n",
       "\n",
       "    .dataframe tbody tr th {\n",
       "        vertical-align: top;\n",
       "    }\n",
       "\n",
       "    .dataframe thead th {\n",
       "        text-align: right;\n",
       "    }\n",
       "</style>\n",
       "<table border=\"1\" class=\"dataframe\">\n",
       "  <thead>\n",
       "    <tr style=\"text-align: right;\">\n",
       "      <th></th>\n",
       "      <th>name</th>\n",
       "      <th>total_sales</th>\n",
       "    </tr>\n",
       "    <tr>\n",
       "      <th>genre</th>\n",
       "      <th></th>\n",
       "      <th></th>\n",
       "    </tr>\n",
       "  </thead>\n",
       "  <tbody>\n",
       "    <tr>\n",
       "      <td>Action</td>\n",
       "      <td>1317</td>\n",
       "      <td>642.98</td>\n",
       "    </tr>\n",
       "    <tr>\n",
       "      <td>Misc</td>\n",
       "      <td>544</td>\n",
       "      <td>231.96</td>\n",
       "    </tr>\n",
       "    <tr>\n",
       "      <td>Sports</td>\n",
       "      <td>527</td>\n",
       "      <td>304.90</td>\n",
       "    </tr>\n",
       "    <tr>\n",
       "      <td>Role-Playing</td>\n",
       "      <td>514</td>\n",
       "      <td>297.10</td>\n",
       "    </tr>\n",
       "    <tr>\n",
       "      <td>Adventure</td>\n",
       "      <td>507</td>\n",
       "      <td>57.18</td>\n",
       "    </tr>\n",
       "    <tr>\n",
       "      <td>Shooter</td>\n",
       "      <td>363</td>\n",
       "      <td>441.52</td>\n",
       "    </tr>\n",
       "    <tr>\n",
       "      <td>Racing</td>\n",
       "      <td>213</td>\n",
       "      <td>119.89</td>\n",
       "    </tr>\n",
       "    <tr>\n",
       "      <td>Simulation</td>\n",
       "      <td>199</td>\n",
       "      <td>69.86</td>\n",
       "    </tr>\n",
       "    <tr>\n",
       "      <td>Fighting</td>\n",
       "      <td>183</td>\n",
       "      <td>77.12</td>\n",
       "    </tr>\n",
       "    <tr>\n",
       "      <td>Strategy</td>\n",
       "      <td>157</td>\n",
       "      <td>34.71</td>\n",
       "    </tr>\n",
       "    <tr>\n",
       "      <td>Platform</td>\n",
       "      <td>138</td>\n",
       "      <td>116.49</td>\n",
       "    </tr>\n",
       "    <tr>\n",
       "      <td>Puzzle</td>\n",
       "      <td>113</td>\n",
       "      <td>20.59</td>\n",
       "    </tr>\n",
       "  </tbody>\n",
       "</table>\n",
       "</div>"
      ],
      "text/plain": [
       "              name  total_sales\n",
       "genre                          \n",
       "Action        1317       642.98\n",
       "Misc           544       231.96\n",
       "Sports         527       304.90\n",
       "Role-Playing   514       297.10\n",
       "Adventure      507        57.18\n",
       "Shooter        363       441.52\n",
       "Racing         213       119.89\n",
       "Simulation     199        69.86\n",
       "Fighting       183        77.12\n",
       "Strategy       157        34.71\n",
       "Platform       138       116.49\n",
       "Puzzle         113        20.59"
      ]
     },
     "execution_count": 30,
     "metadata": {},
     "output_type": "execute_result"
    }
   ],
   "source": [
    "# группировка данных по жанрам и подсчёт количества игр и суммы общих продаж\n",
    "sales_by_genre = df.groupby('genre').agg({'name':'count', 'total_sales': 'sum'}).sort_values(by='name', ascending=False)\n",
    "sales_by_genre"
   ]
  },
  {
   "cell_type": "markdown",
   "metadata": {},
   "source": [
    "Больше всего игр было выпущено в жанре Action. Поскольку данные отсортированы по количеству вышедших игр, видно, что в столбце общих продаж распределение отличается. Для наглядности сравнения постороим столбчатые графики с визуализациями распределений."
   ]
  },
  {
   "cell_type": "code",
   "execution_count": 31,
   "metadata": {},
   "outputs": [
    {
     "data": {
      "text/plain": [
       "Text(0, 0.5, 'Вышедшие игры, шт.')"
      ]
     },
     "execution_count": 31,
     "metadata": {},
     "output_type": "execute_result"
    },
    {
     "data": {
      "image/png": "[encoded data removed]",
      "text/plain": [
       "<Figure size 576x360 with 1 Axes>"
      ]
     },
     "metadata": {
      "needs_background": "light"
     },
     "output_type": "display_data"
    }
   ],
   "source": [
    "ax = plt.gca()\n",
    "\n",
    "sales_by_genre['name'].plot(kind='bar', figsize=(8,5), ax=ax,\n",
    "                            width=0.5, color='#F08080',\n",
    "                            legend=True)\n",
    "plt.title('Распределение количества вышедших игр по жанрам')\n",
    "plt.xlabel('Жанры')\n",
    "plt.ylabel('Вышедшие игры, шт.')"
   ]
  },
  {
   "cell_type": "code",
   "execution_count": 32,
   "metadata": {},
   "outputs": [
    {
     "data": {
      "text/plain": [
       "Text(0, 0.5, 'Общие продажи, млн долларов')"
      ]
     },
     "execution_count": 32,
     "metadata": {},
     "output_type": "execute_result"
    },
    {
     "data": {
      "image/png": "[encoded data removed]",
      "text/plain": [
       "<Figure size 576x360 with 1 Axes>"
      ]
     },
     "metadata": {
      "needs_background": "light"
     },
     "output_type": "display_data"
    }
   ],
   "source": [
    "ax = plt.gca()\n",
    "sales_by_genre['total_sales'].plot(kind='bar', figsize=(8,5), ax=ax,\n",
    "                                   width=0.5, color='#800080',\n",
    "                                   legend=True)\n",
    "plt.title('Распределение общих продаж игр по жанрам')\n",
    "plt.xlabel('Жанры')\n",
    "plt.ylabel('Общие продажи, млн долларов')"
   ]
  },
  {
   "cell_type": "markdown",
   "metadata": {},
   "source": [
    "<div class=\"alert alert-warning\">\n",
    "<font size=\"5\"><b>Комментарий ревьюера</b></font>\n",
    "\n",
    "Не стоит на одном графике отрисовывать число проданных игр и выручку. Данные параметры измеряются в разных единицах измерения. \n",
    "\n",
    "</div>\n",
    "\n",
    "\n",
    "<div class=\"alert alert-warning\">\n",
    "<font size=\"5\"><b>Комментарий обучающегося</b></font>\n",
    "\n",
    "Общий график с двумя измерениями разбит на два - по количеству вышедших игр и по общим продажам. При этом, поскольку значения в переменной sales_by_genre отсортированы по количеству вынедших игр, столбики первого графика получаются нисходящие, а на втором графике они прыгают. Не стал добавлять вторую переменную с сортировкой по продажам, т.к. на графике всё понятно.\n",
    "\n",
    "</div>"
   ]
  },
  {
   "cell_type": "markdown",
   "metadata": {},
   "source": [
    "Жанр экшен - лидер и по количеству выпускаемых игр, и по общим продажам. Далее по количеству почти вровень идут Miscellaneous game (игры прочих жанров из категории skill-and-action), спортивные симуляторы, ролевые игры и приключения. Эти пять жанров - явные лидеры по количеству выходивших за выбранный период игр, за явным лидерством экшен-игр.\n",
    "\n",
    "На графике распределения общих продаж отдельно стоит выделить жанр Shooter - по продажам он уверенно держит второе место, при этом по количеству выпускаемых игр (первый график) он только шестой. При этом, делая вывод о прибыльности жанров, необходимо учитывать затраты на производство: производство игр в жанрах - лидерах по продажам Action и Shooter требует бОльших затрат. Из имеющихся данных у нас только выручка, из которой необходимо также вычитать затраты на производство, которых в данных нет. Поэтому тут правильнее говорить не о самых прибыльных, а о самых продаваемых (приносящих больше всего выручки) жанрах."
   ]
  },
  {
   "cell_type": "markdown",
   "metadata": {},
   "source": [
    "<div class=\"alert alert-success\">\n",
    "<font size=\"5\"><b>Комментарий ревьюера</b></font>\n",
    "\n",
    "Анализ популярности жанров проведен. Однако не стоит забывать, что производство игр в жанрах Action или Shooter обходится сильно дороже, чем производство Puzzle-игр. \n",
    "\n",
    "</div>\n",
    "\n",
    "\n",
    "<div class=\"alert alert-success\">\n",
    "<font size=\"5\"><b>Комментарий обучающегося</b></font>\n",
    "\n",
    "Вывод обновлён.\n",
    "</div>"
   ]
  },
  {
   "cell_type": "markdown",
   "metadata": {},
   "source": [
    "## Портрет пользователей по регионам"
   ]
  },
  {
   "cell_type": "markdown",
   "metadata": {},
   "source": [
    "Определим самые популярные платформы и жанры по каждому из трёх регионов, а также распределения по рейтингу."
   ]
  },
  {
   "cell_type": "markdown",
   "metadata": {},
   "source": [
    "<div class=\"alert alert-danger\">\n",
    "<font size=\"5\"><b>Комментарий ревьюера</b></font>\n",
    "\n",
    "Зачем заново считывать данные? Ранее мы выделили актуальные данные, их и стоит анализировать далее. \n",
    "\n",
    "</div>\n",
    "\n",
    "\n",
    "<div class=\"alert alert-danger\">\n",
    "<font size=\"5\"><b>Комментарий обучающегося</b></font>\n",
    "\n",
    "Почему-то в первый раз я решил, что мы потеряем слишком много данных, если будем анализировать уже отфильтрованный по срокам датафрейм. К тому же я не был уверен, что изначально выбранный мной период [2002, 2015] верный, поэтому решил работать со всем набором данных.\n",
    "    \n",
    "Сейчас всё исправлено, продолжаю анализировать данные за выбранный период [2010, 2015]. Все графики и выводы обновлены в соответствие с новыми распределениями.\n",
    "\n",
    "</div>"
   ]
  },
  {
   "cell_type": "markdown",
   "metadata": {},
   "source": [
    "<div class=\"alert alert-success\">\n",
    "<font size=\"5\"><b>Комментарий ревьюера 2</b></font>\n",
    "\n",
    "В таком случае стоило создать в начале проекта копию по полным данным и использовать ее здесь. Считывание данных стоит делать один раз в проекте, желательно в самом его начале.  \n",
    "\n",
    "</div>"
   ]
  },
  {
   "cell_type": "code",
   "execution_count": 33,
   "metadata": {},
   "outputs": [
    {
     "data": {
      "text/plain": [
       "<matplotlib.axes._subplots.AxesSubplot at 0x7fb36c1155d0>"
      ]
     },
     "execution_count": 33,
     "metadata": {},
     "output_type": "execute_result"
    },
    {
     "data": {
      "image/png": "[encoded data removed]",
      "text/plain": [
       "<Figure size 432x288 with 1 Axes>"
      ]
     },
     "metadata": {
      "needs_background": "light"
     },
     "output_type": "display_data"
    },
    {
     "data": {
      "image/png": "[encoded data removed]",
      "text/plain": [
       "<Figure size 432x288 with 1 Axes>"
      ]
     },
     "metadata": {
      "needs_background": "light"
     },
     "output_type": "display_data"
    },
    {
     "data": {
      "image/png": "[encoded data removed]",
      "text/plain": [
       "<Figure size 432x288 with 1 Axes>"
      ]
     },
     "metadata": {
      "needs_background": "light"
     },
     "output_type": "display_data"
    }
   ],
   "source": [
    "# распределение предпочтений трёх регионов по платформам\n",
    "df.groupby(by='platform').agg({'na_sales':'sum'}).sort_values(by='na_sales', ascending=False).head(5).plot(kind='bar', rot=0)\n",
    "df.groupby(by='platform').agg({'eu_sales':'sum'}).sort_values(by='eu_sales', ascending=False).head(5).plot(kind='bar', rot=0)\n",
    "df.groupby(by='platform').agg({'jp_sales':'sum'}).sort_values(by='jp_sales', ascending=False).head(5).plot(kind='bar', rot=0)"
   ]
  },
  {
   "cell_type": "markdown",
   "metadata": {},
   "source": [
    "На начало 2016-го года по общей сумме продаж за рассматриваемый период с 2010-го по 2015-й годы предпочтения трёх регионов по платформам отличаются. Северная Америка и Европа схожи больше - два лидера (X360 и PS3) поменяны местами, также в топ-5 входят PS4 и Wii.\n",
    "\n",
    "Картина по Японии отличается. Здесь в лидерах как специфичные и разработанные специально для Японии консоли (лидер Nintendo 3DS и Nintendo 3DS), так и платформы, которые не в лидерах у Северной Америки и Европы (PS Portable, PS Vita). Здесь имеет значение то, что Nintendo - японская компания, и для внетреннего рынка она предлагает другие платформы и,в целом, может выстраивать политику продаж внутри страны более точечно.\n",
    "\n",
    "Также необходимо отметить разницу абсолютных значений по шкале y (продажи). Лидер в Северной Америке (X360) принёс около 340 млн долларов, лидер Европы - примерно 210, лидер Японии - около 90. Значения Японии намного меньше, что и логично: мы сравниваем одну относительно небольшую страну с целыми частями света."
   ]
  },
  {
   "cell_type": "markdown",
   "metadata": {},
   "source": [
    "Аналогично проанализируем территориальную популярность игр по жанрам."
   ]
  },
  {
   "cell_type": "code",
   "execution_count": 34,
   "metadata": {},
   "outputs": [
    {
     "data": {
      "text/plain": [
       "<matplotlib.axes._subplots.AxesSubplot at 0x7fb367efee50>"
      ]
     },
     "execution_count": 34,
     "metadata": {},
     "output_type": "execute_result"
    },
    {
     "data": {
      "image/png": "[encoded data removed]",
      "text/plain": [
       "<Figure size 432x288 with 1 Axes>"
      ]
     },
     "metadata": {
      "needs_background": "light"
     },
     "output_type": "display_data"
    },
    {
     "data": {
      "image/png": "[encoded data removed]",
      "text/plain": [
       "<Figure size 432x288 with 1 Axes>"
      ]
     },
     "metadata": {
      "needs_background": "light"
     },
     "output_type": "display_data"
    },
    {
     "data": {
      "image/png": "[encoded data removed]",
      "text/plain": [
       "<Figure size 432x288 with 1 Axes>"
      ]
     },
     "metadata": {
      "needs_background": "light"
     },
     "output_type": "display_data"
    }
   ],
   "source": [
    "# распределение предпочтений трёх регионов по жанрам\n",
    "df.groupby(by='genre').agg({'na_sales':'sum'}).sort_values(by='na_sales', ascending=False).head(5).plot(kind='bar', rot=0)\n",
    "df.groupby(by='genre').agg({'eu_sales':'sum'}).sort_values(by='eu_sales', ascending=False).head(5).plot(kind='bar', rot=0)\n",
    "df.groupby(by='genre').agg({'jp_sales':'sum'}).sort_values(by='jp_sales', ascending=False).head(5).plot(kind='bar', rot=0)"
   ]
  },
  {
   "cell_type": "markdown",
   "metadata": {},
   "source": [
    "Здесь также логично различие в значениях общих продаж - жанр-лидер экшен в Северной Америке и Европе собрал около 270 и 220 млн долларов соответственно. В целом, по аналогии с распределением по платформам, топ-5 жанров Северной Америки и Европы совпадают практически полностью. Объясняется, прежде всего, схожестью рынков и одним языком.\n",
    "\n",
    "У Японии вообще другой лидер - лидируют ролевые игры, экшен на второй позиции. Можно объяснить, наверно, особенностью всей страны, людей и их восприятием (много необычного для нас, без привязки к играм), что формирует предпочтения игроков."
   ]
  },
  {
   "cell_type": "markdown",
   "metadata": {},
   "source": [
    "Аналогично посмотрим разбиение общих продаж по регионам по рейтингу ESRB. Предварительно посмотрим количество различных значений в столбце 'rating'."
   ]
  },
  {
   "cell_type": "code",
   "execution_count": 35,
   "metadata": {},
   "outputs": [
    {
     "data": {
      "text/plain": [
       "E       872\n",
       "T       761\n",
       "M       641\n",
       "E10+    553\n",
       "EC        5\n",
       "RP        1\n",
       "Name: rating, dtype: int64"
      ]
     },
     "execution_count": 35,
     "metadata": {},
     "output_type": "execute_result"
    }
   ],
   "source": [
    "df['rating'].value_counts()"
   ]
  },
  {
   "cell_type": "code",
   "execution_count": 36,
   "metadata": {},
   "outputs": [
    {
     "name": "stdout",
     "output_type": "stream",
     "text": [
      "<class 'pandas.core.frame.DataFrame'>\n",
      "Int64Index: 4775 entries, 14 to 16707\n",
      "Data columns (total 12 columns):\n",
      "name               4775 non-null object\n",
      "platform           4775 non-null object\n",
      "year_of_release    4775 non-null Int64\n",
      "genre              4775 non-null object\n",
      "na_sales           4775 non-null float64\n",
      "eu_sales           4775 non-null float64\n",
      "jp_sales           4775 non-null float64\n",
      "other_sales        4775 non-null float64\n",
      "critic_score       2080 non-null float64\n",
      "user_score         2237 non-null float64\n",
      "rating             2833 non-null object\n",
      "total_sales        4775 non-null float64\n",
      "dtypes: Int64(1), float64(7), object(4)\n",
      "memory usage: 489.6+ KB\n"
     ]
    }
   ],
   "source": [
    "df.info()"
   ]
  },
  {
   "cell_type": "markdown",
   "metadata": {},
   "source": [
    "В столбце 'rating' не заполнены 4775 - 2833 = 1942 ячейки. Для того, чтобы учесть игры без рейтинга, заполним пропущенные значения аббревиатурой 'tbd'."
   ]
  },
  {
   "cell_type": "code",
   "execution_count": 37,
   "metadata": {},
   "outputs": [],
   "source": [
    "df['rating'] = df['rating'].fillna('tbd')"
   ]
  },
  {
   "cell_type": "code",
   "execution_count": 38,
   "metadata": {},
   "outputs": [
    {
     "data": {
      "text/plain": [
       "<matplotlib.axes._subplots.AxesSubplot at 0x7fb367d56690>"
      ]
     },
     "execution_count": 38,
     "metadata": {},
     "output_type": "execute_result"
    },
    {
     "data": {
      "image/png": "[encoded data removed]",
      "text/plain": [
       "<Figure size 432x288 with 1 Axes>"
      ]
     },
     "metadata": {
      "needs_background": "light"
     },
     "output_type": "display_data"
    },
    {
     "data": {
      "image/png": "[encoded data removed]",
      "text/plain": [
       "<Figure size 432x288 with 1 Axes>"
      ]
     },
     "metadata": {
      "needs_background": "light"
     },
     "output_type": "display_data"
    },
    {
     "data": {
      "image/png": "[encoded data removed]",
      "text/plain": [
       "<Figure size 432x288 with 1 Axes>"
      ]
     },
     "metadata": {
      "needs_background": "light"
     },
     "output_type": "display_data"
    }
   ],
   "source": [
    "# распределение предпочтений трёх регионов по рейтингу\n",
    "df.groupby(by='rating').agg({'na_sales':'sum'}).sort_values(by='na_sales', ascending=False).head().plot(kind='bar', rot=0)\n",
    "df.groupby(by='rating').agg({'eu_sales':'sum'}).sort_values(by='eu_sales', ascending=False).head().plot(kind='bar', rot=0)\n",
    "df.groupby(by='rating').agg({'jp_sales':'sum'}).sort_values(by='jp_sales', ascending=False).head().plot(kind='bar', rot=0)"
   ]
  },
  {
   "cell_type": "markdown",
   "metadata": {},
   "source": [
    "<div class=\"alert alert-danger\">\n",
    "<font size=\"5\"><b>Комментарий ревьюера</b></font>\n",
    "\n",
    "Обрати внимание - ты не учитываешь игры без рейтинга. В результате огромная часть игр просто выпадает из анализа. Найди способ учесть их при группировке значений по рейтингу.\n",
    "    \n",
    "</div>\n",
    "\n",
    "\n",
    "<div class=\"alert alert-danger\">\n",
    "<font size=\"5\"><b>Комментарий обучающегося</b></font>\n",
    "\n",
    "Честно говоря, не уверен, что корректно заполнять пропущенные значения (4775 - 2833 = 1942 ячейки с NaN, где у игры не указан рейтинг) каким-либо значением из имеющихся. Если я правильно понял подсказку, то, чтобы всё же учесть то, что игр у нас больше, чем значений рейтинга к ним, можно заполнить NaN какими-то неопределёнными строковыми заполнителями. Использовал ранее уже встречавшийся to be determined. В результате в столбце 'rating' заполнены все 4775 ячеек, к шести имеющимся значениям ['E', 'T', 'M', 'E10+', 'EC', 'RP'] добавлено 'tbd'. Значений 'EC' и 'RP' всего пять и одно соответственно, их не выводим. Все распределения перестроены, вывод обновлён.\n",
    "    \n",
    "</div>"
   ]
  },
  {
   "cell_type": "markdown",
   "metadata": {},
   "source": [
    "<div class=\"alert alert-success\">\n",
    "<font size=\"5\"><b>Комментарий ревьюера 2</b></font>\n",
    "\n",
    "Все правильно. Ты заметил важную особенность данных - большая часть игр японского региона не имеет рейтинга. Как думаешь, почему?\n",
    "\n",
    "</div>"
   ]
  },
  {
   "cell_type": "markdown",
   "metadata": {},
   "source": [
    "В Северной Америке и Европе распределния достаточно похожими: больше всего продаётся игр с рейтингами M («Mature» — «Для взрослых») и E («Everyone» — «Для всех»).\n",
    "\n",
    "В Японии картина снова отличается. У абсолютного большинства продающихся игр рейтинг не указан. Далее примерно поровну расположились игры с рейтингами E и T («Teen» — «Подросткам»). Чтобы попытаться сделать вывод для Японии, посмотрим наш график выше с распределением игр в Японии по жанрам. Вспомним, что в Японии в рассматриваемый период самыми продаваемыми были ролевые игры - возможно, им затруднительно проставить какое-то однозначное значение рейтинга."
   ]
  },
  {
   "cell_type": "markdown",
   "metadata": {},
   "source": [
    "<div class=\"alert alert-success\">\n",
    "<font size=\"5\"><b>Комментарий ревьюера</b></font>\n",
    "\n",
    "Портрет типичного пользователя каждого из регионов получен. Приведены все необходимые графики. Здорово, что отмечены индивидуальные особенности каждого региона. \n",
    "\n",
    "</div>"
   ]
  },
  {
   "cell_type": "markdown",
   "metadata": {},
   "source": [
    "## Исследование статистических показателей"
   ]
  },
  {
   "cell_type": "markdown",
   "metadata": {},
   "source": [
    "Проведём статистический анализ данных. Исследуем изменение отзывов критиков и пользователей по жанрам из датафрейма с помощью среднего, дисперсии и стандартного отклонения."
   ]
  },
  {
   "cell_type": "code",
   "execution_count": 39,
   "metadata": {},
   "outputs": [
    {
     "data": {
      "text/plain": [
       "array(['Misc', 'Action', 'Role-Playing', 'Shooter', 'Racing', 'Platform',\n",
       "       'Simulation', 'Sports', 'Fighting', 'Strategy', 'Adventure',\n",
       "       'Puzzle'], dtype=object)"
      ]
     },
     "execution_count": 39,
     "metadata": {},
     "output_type": "execute_result"
    }
   ],
   "source": [
    "# получим список всех упоминаемых в таблице жанров\n",
    "df['genre'].unique()\n",
    "genres_list = df['genre'].unique()\n",
    "genres_list"
   ]
  },
  {
   "cell_type": "code",
   "execution_count": 40,
   "metadata": {},
   "outputs": [
    {
     "name": "stdout",
     "output_type": "stream",
     "text": [
      "Среднее жанра Misc рейтинга пользователей: 6.608759124087591\n",
      "Дисперсия жанра Misc рейтинга пользователей: 2.2875145186211303\n",
      "Стандартное отклонение жанра Misc рейтинга пользователей: 1.512453145925893\n",
      "\n",
      "\n",
      "Среднее жанра Action рейтинга пользователей: 6.7994236311239185\n",
      "Дисперсия жанра Action рейтинга пользователей: 1.8089045669343655\n",
      "Стандартное отклонение жанра Action рейтинга пользователей: 1.344955228598471\n",
      "\n",
      "\n",
      "Среднее жанра Role-Playing рейтинга пользователей: 7.246502057613169\n",
      "Дисперсия жанра Role-Playing рейтинга пользователей: 1.5099774763332148\n",
      "Стандартное отклонение жанра Role-Playing рейтинга пользователей: 1.2288114079602348\n",
      "\n",
      "\n",
      "Среднее жанра Shooter рейтинга пользователей: 6.472280701754386\n",
      "Дисперсия жанра Shooter рейтинга пользователей: 2.318143921206525\n",
      "Стандартное отклонение жанра Shooter рейтинга пользователей: 1.5225452115475997\n",
      "\n",
      "\n",
      "Среднее жанра Racing рейтинга пользователей: 6.283720930232558\n",
      "Дисперсия жанра Racing рейтинга пользователей: 2.4043086352983587\n",
      "Стандартное отклонение жанра Racing рейтинга пользователей: 1.5505833209790303\n",
      "\n",
      "\n",
      "Среднее жанра Platform рейтинга пользователей: 7.285263157894737\n",
      "Дисперсия жанра Platform рейтинга пользователей: 2.3764144044321327\n",
      "Стандартное отклонение жанра Platform рейтинга пользователей: 1.5415623258344544\n",
      "\n",
      "\n",
      "Среднее жанра Simulation рейтинга пользователей: 6.144000000000001\n",
      "Дисперсия жанра Simulation рейтинга пользователей: 2.8637973333333333\n",
      "Стандартное отклонение жанра Simulation рейтинга пользователей: 1.692275785246995\n",
      "\n",
      "\n",
      "Среднее жанра Sports рейтинга пользователей: 5.9640287769784175\n",
      "Дисперсия жанра Sports рейтинга пользователей: 2.630432689819368\n",
      "Стандартное отклонение жанра Sports рейтинга пользователей: 1.6218608725224763\n",
      "\n",
      "\n",
      "Среднее жанра Fighting рейтинга пользователей: 6.979338842975206\n",
      "Дисперсия жанра Fighting рейтинга пользователей: 1.5593251827060992\n",
      "Стандартное отклонение жанра Fighting рейтинга пользователей: 1.2487294273404865\n",
      "\n",
      "\n",
      "Среднее жанра Strategy рейтинга пользователей: 6.532394366197183\n",
      "Дисперсия жанра Strategy рейтинга пользователей: 3.088105534616148\n",
      "Стандартное отклонение жанра Strategy рейтинга пользователей: 1.7573006386546806\n",
      "\n",
      "\n",
      "Среднее жанра Adventure рейтинга пользователей: 7.309090909090909\n",
      "Дисперсия жанра Adventure рейтинга пользователей: 1.8265082644628097\n",
      "Стандартное отклонение жанра Adventure рейтинга пользователей: 1.3514837270432853\n",
      "\n",
      "\n",
      "Среднее жанра Puzzle рейтинга пользователей: 7.114285714285715\n",
      "Дисперсия жанра Puzzle рейтинга пользователей: 1.1536054421768709\n",
      "Стандартное отклонение жанра Puzzle рейтинга пользователей: 1.0740602600305398\n",
      "\n",
      "\n"
     ]
    }
   ],
   "source": [
    "# используя цикл, пройдёмся по всем жанрам и для каждого выведем необходимые показатели отзывов пользователей\n",
    "mu_user_score = []\n",
    "sigma_squared_user_score = []\n",
    "sigma_user_score = []\n",
    "for genre in genres_list:\n",
    "    print('Среднее жанра', genre,'рейтинга пользователей:', df[df['genre']==genre]['user_score'].mean())\n",
    "    mu_user_score.append(df[df['genre']==genre]['user_score'].mean())\n",
    "    print('Дисперсия жанра', genre,'рейтинга пользователей:', np.var(df[df['genre']==genre]['user_score']))\n",
    "    sigma_squared_user_score.append(np.var(df[df['genre']==genre]['user_score']))\n",
    "    print('Стандартное отклонение жанра', genre,'рейтинга пользователей:', np.std(df[df['genre']==genre]['user_score']))\n",
    "    sigma_user_score.append(np.std(df[df['genre']==genre]['user_score']))\n",
    "    print('\\n')"
   ]
  },
  {
   "cell_type": "code",
   "execution_count": 41,
   "metadata": {},
   "outputs": [
    {
     "name": "stdout",
     "output_type": "stream",
     "text": [
      "Среднее жанра Misc рейтинга критиков: 68.85820895522389\n",
      "Дисперсия жанра Misc рейтинга критиков: 166.24108932947203\n",
      "Стандартное отклонение жанра Misc рейтинга критиков: 12.893451412615322\n",
      "\n",
      "\n",
      "Среднее жанра Action рейтинга критиков: 68.7542768273717\n",
      "Дисперсия жанра Action рейтинга критиков: 187.2242235438954\n",
      "Стандартное отклонение жанра Action рейтинга критиков: 13.682990299780798\n",
      "\n",
      "\n",
      "Среднее жанра Role-Playing рейтинга критиков: 72.7725321888412\n",
      "Дисперсия жанра Role-Playing рейтинга критиков: 148.13280775110982\n",
      "Стандартное отклонение жанра Role-Playing рейтинга критиков: 12.170982201577234\n",
      "\n",
      "\n",
      "Среднее жанра Shooter рейтинга критиков: 71.29811320754717\n",
      "Дисперсия жанра Shooter рейтинга критиков: 192.45075115699535\n",
      "Стандартное отклонение жанра Shooter рейтинга критиков: 13.872662006875082\n",
      "\n",
      "\n",
      "Среднее жанра Racing рейтинга критиков: 70.26771653543307\n",
      "Дисперсия жанра Racing рейтинга критиков: 191.17242234484468\n",
      "Стандартное отклонение жанра Racing рейтинга критиков: 13.82651157540631\n",
      "\n",
      "\n",
      "Среднее жанра Platform рейтинга критиков: 75.13953488372093\n",
      "Дисперсия жанра Platform рейтинга критиков: 169.84099513250405\n",
      "Стандартное отклонение жанра Platform рейтинга критиков: 13.032305825620577\n",
      "\n",
      "\n",
      "Среднее жанра Simulation рейтинга критиков: 64.76811594202898\n",
      "Дисперсия жанра Simulation рейтинга критиков: 156.84478050829657\n",
      "Стандартное отклонение жанра Simulation рейтинга критиков: 12.523768622435364\n",
      "\n",
      "\n",
      "Среднее жанра Sports рейтинга критиков: 70.20588235294117\n",
      "Дисперсия жанра Sports рейтинга критиков: 241.26433514582305\n",
      "Стандартное отклонение жанра Sports рейтинга критиков: 15.53268602482594\n",
      "\n",
      "\n",
      "Среднее жанра Fighting рейтинга критиков: 69.73451327433628\n",
      "Дисперсия жанра Fighting рейтинга критиков: 195.15075573654946\n",
      "Стандартное отклонение жанра Fighting рейтинга критиков: 13.969636922144737\n",
      "\n",
      "\n",
      "Среднее жанра Strategy рейтинга критиков: 72.234375\n",
      "Дисперсия жанра Strategy рейтинга критиков: 149.898193359375\n",
      "Стандартное отклонение жанра Strategy рейтинга критиков: 12.243291769756\n",
      "\n",
      "\n",
      "Среднее жанра Adventure рейтинга критиков: 69.48148148148148\n",
      "Дисперсия жанра Adventure рейтинга критиков: 177.26200274348423\n",
      "Стандартное отклонение жанра Adventure рейтинга критиков: 13.313977720556853\n",
      "\n",
      "\n",
      "Среднее жанра Puzzle рейтинга критиков: 71.74074074074075\n",
      "Дисперсия жанра Puzzle рейтинга критиков: 74.56241426611797\n",
      "Стандартное отклонение жанра Puzzle рейтинга критиков: 8.63495305523533\n",
      "\n",
      "\n"
     ]
    }
   ],
   "source": [
    "# аналогично посмотрим отзывы критиков\n",
    "mu_critic_score = []\n",
    "sigma_squared_critic_score = []\n",
    "sigma_critic_score = []\n",
    "for genre in genres_list:\n",
    "    print('Среднее жанра', genre,'рейтинга критиков:', df[df['genre']==genre]['critic_score'].mean())\n",
    "    mu_critic_score.append(df[df['genre']==genre]['critic_score'].mean())\n",
    "    print('Дисперсия жанра', genre,'рейтинга критиков:', np.var(df[df['genre']==genre]['critic_score']))\n",
    "    sigma_squared_critic_score.append(np.var(df[df['genre']==genre]['critic_score']))\n",
    "    print('Стандартное отклонение жанра', genre,'рейтинга критиков:', np.std(df[df['genre']==genre]['critic_score']))\n",
    "    sigma_critic_score.append(np.std(df[df['genre']==genre]['critic_score']))\n",
    "    print('\\n')"
   ]
  },
  {
   "cell_type": "markdown",
   "metadata": {},
   "source": [
    "<div class=\"alert alert-success\">\n",
    "<font size=\"5\"><b>Комментарий ревьюера</b></font>\n",
    "\n",
    "Будет здорово, если ты соберешь все данные в единую таблицу. Так нам будет заметно проще сравнивать их между собой. \n",
    "\n",
    "</div>\n",
    "\n",
    "\n",
    "<div class=\"alert alert-success\">\n",
    "<font size=\"5\"><b>Комментарий обучающегося</b></font>\n",
    "\n",
    "Сначала ниже дополнительно создал таблицу по оценкам пользователей и критиков, но в одной таблице визуально смотрелось не очень понятно, либо я не нашёл хорошего решения, как лучше отобразить все строки и столбцы. В результате решил, что лучше построить две отдельные таблицы. Для этого в циклы выше добавил складывание значений в соответсвующие переменные.\n",
    "\n",
    "</div>"
   ]
  },
  {
   "cell_type": "code",
   "execution_count": 55,
   "metadata": {},
   "outputs": [
    {
     "data": {
      "text/html": [
       "<div>\n",
       "<style scoped>\n",
       "    .dataframe tbody tr th:only-of-type {\n",
       "        vertical-align: middle;\n",
       "    }\n",
       "\n",
       "    .dataframe tbody tr th {\n",
       "        vertical-align: top;\n",
       "    }\n",
       "\n",
       "    .dataframe thead tr th {\n",
       "        text-align: left;\n",
       "    }\n",
       "\n",
       "    .dataframe thead tr:last-of-type th {\n",
       "        text-align: right;\n",
       "    }\n",
       "</style>\n",
       "<table border=\"1\" class=\"dataframe\">\n",
       "  <thead>\n",
       "    <tr>\n",
       "      <th></th>\n",
       "      <th colspan=\"3\" halign=\"left\">user_score</th>\n",
       "      <th colspan=\"3\" halign=\"left\">critic_score</th>\n",
       "    </tr>\n",
       "    <tr>\n",
       "      <th></th>\n",
       "      <th>mean</th>\n",
       "      <th>std</th>\n",
       "      <th>var</th>\n",
       "      <th>mean</th>\n",
       "      <th>std</th>\n",
       "      <th>var</th>\n",
       "    </tr>\n",
       "    <tr>\n",
       "      <th>genre</th>\n",
       "      <th></th>\n",
       "      <th></th>\n",
       "      <th></th>\n",
       "      <th></th>\n",
       "      <th></th>\n",
       "      <th></th>\n",
       "    </tr>\n",
       "  </thead>\n",
       "  <tbody>\n",
       "    <tr>\n",
       "      <td>Action</td>\n",
       "      <td>6.799424</td>\n",
       "      <td>1.345925</td>\n",
       "      <td>1.811515</td>\n",
       "      <td>68.754277</td>\n",
       "      <td>13.693643</td>\n",
       "      <td>187.515850</td>\n",
       "    </tr>\n",
       "    <tr>\n",
       "      <td>Adventure</td>\n",
       "      <td>7.309091</td>\n",
       "      <td>1.359229</td>\n",
       "      <td>1.847503</td>\n",
       "      <td>69.481481</td>\n",
       "      <td>13.396932</td>\n",
       "      <td>179.477778</td>\n",
       "    </tr>\n",
       "    <tr>\n",
       "      <td>Fighting</td>\n",
       "      <td>6.979339</td>\n",
       "      <td>1.253922</td>\n",
       "      <td>1.572320</td>\n",
       "      <td>69.734513</td>\n",
       "      <td>14.031863</td>\n",
       "      <td>196.893173</td>\n",
       "    </tr>\n",
       "    <tr>\n",
       "      <td>Misc</td>\n",
       "      <td>6.608759</td>\n",
       "      <td>1.518003</td>\n",
       "      <td>2.304334</td>\n",
       "      <td>68.858209</td>\n",
       "      <td>12.941832</td>\n",
       "      <td>167.491022</td>\n",
       "    </tr>\n",
       "    <tr>\n",
       "      <td>Platform</td>\n",
       "      <td>7.285263</td>\n",
       "      <td>1.549740</td>\n",
       "      <td>2.401695</td>\n",
       "      <td>75.139535</td>\n",
       "      <td>13.108742</td>\n",
       "      <td>171.839124</td>\n",
       "    </tr>\n",
       "    <tr>\n",
       "      <td>Puzzle</td>\n",
       "      <td>7.114286</td>\n",
       "      <td>1.100584</td>\n",
       "      <td>1.211286</td>\n",
       "      <td>71.740741</td>\n",
       "      <td>8.799443</td>\n",
       "      <td>77.430199</td>\n",
       "    </tr>\n",
       "    <tr>\n",
       "      <td>Racing</td>\n",
       "      <td>6.283721</td>\n",
       "      <td>1.556629</td>\n",
       "      <td>2.423092</td>\n",
       "      <td>70.267717</td>\n",
       "      <td>13.881270</td>\n",
       "      <td>192.689664</td>\n",
       "    </tr>\n",
       "    <tr>\n",
       "      <td>Role-Playing</td>\n",
       "      <td>7.246502</td>\n",
       "      <td>1.231348</td>\n",
       "      <td>1.516217</td>\n",
       "      <td>72.772532</td>\n",
       "      <td>12.197185</td>\n",
       "      <td>148.771311</td>\n",
       "    </tr>\n",
       "    <tr>\n",
       "      <td>Shooter</td>\n",
       "      <td>6.472281</td>\n",
       "      <td>1.525223</td>\n",
       "      <td>2.326306</td>\n",
       "      <td>71.298113</td>\n",
       "      <td>13.898911</td>\n",
       "      <td>193.179731</td>\n",
       "    </tr>\n",
       "    <tr>\n",
       "      <td>Simulation</td>\n",
       "      <td>6.144000</td>\n",
       "      <td>1.703672</td>\n",
       "      <td>2.902497</td>\n",
       "      <td>64.768116</td>\n",
       "      <td>12.615519</td>\n",
       "      <td>159.151321</td>\n",
       "    </tr>\n",
       "    <tr>\n",
       "      <td>Sports</td>\n",
       "      <td>5.964029</td>\n",
       "      <td>1.624786</td>\n",
       "      <td>2.639929</td>\n",
       "      <td>70.205882</td>\n",
       "      <td>15.565421</td>\n",
       "      <td>242.282328</td>\n",
       "    </tr>\n",
       "    <tr>\n",
       "      <td>Strategy</td>\n",
       "      <td>6.532394</td>\n",
       "      <td>1.769808</td>\n",
       "      <td>3.132221</td>\n",
       "      <td>72.234375</td>\n",
       "      <td>12.340078</td>\n",
       "      <td>152.277530</td>\n",
       "    </tr>\n",
       "  </tbody>\n",
       "</table>\n",
       "</div>"
      ],
      "text/plain": [
       "             user_score                     critic_score             \\\n",
       "                   mean       std       var         mean        std   \n",
       "genre                                                                 \n",
       "Action         6.799424  1.345925  1.811515    68.754277  13.693643   \n",
       "Adventure      7.309091  1.359229  1.847503    69.481481  13.396932   \n",
       "Fighting       6.979339  1.253922  1.572320    69.734513  14.031863   \n",
       "Misc           6.608759  1.518003  2.304334    68.858209  12.941832   \n",
       "Platform       7.285263  1.549740  2.401695    75.139535  13.108742   \n",
       "Puzzle         7.114286  1.100584  1.211286    71.740741   8.799443   \n",
       "Racing         6.283721  1.556629  2.423092    70.267717  13.881270   \n",
       "Role-Playing   7.246502  1.231348  1.516217    72.772532  12.197185   \n",
       "Shooter        6.472281  1.525223  2.326306    71.298113  13.898911   \n",
       "Simulation     6.144000  1.703672  2.902497    64.768116  12.615519   \n",
       "Sports         5.964029  1.624786  2.639929    70.205882  15.565421   \n",
       "Strategy       6.532394  1.769808  3.132221    72.234375  12.340078   \n",
       "\n",
       "                          \n",
       "                     var  \n",
       "genre                     \n",
       "Action        187.515850  \n",
       "Adventure     179.477778  \n",
       "Fighting      196.893173  \n",
       "Misc          167.491022  \n",
       "Platform      171.839124  \n",
       "Puzzle         77.430199  \n",
       "Racing        192.689664  \n",
       "Role-Playing  148.771311  \n",
       "Shooter       193.179731  \n",
       "Simulation    159.151321  \n",
       "Sports        242.282328  \n",
       "Strategy      152.277530  "
      ]
     },
     "execution_count": 55,
     "metadata": {},
     "output_type": "execute_result"
    }
   ],
   "source": [
    "# Код ревьюера\n",
    "df.groupby('genre')[['user_score', 'critic_score']].agg(['mean', 'std', 'var'])"
   ]
  },
  {
   "cell_type": "markdown",
   "metadata": {},
   "source": [
    "<div class=\"alert alert-success\">\n",
    "<font size=\"5\"><b>Комментарий ревьюера 2</b></font>\n",
    "\n",
    "Привел способ сбора данных в одну строку. Думаю, тебе будет интересно его разобрать)\n",
    "\n",
    "</div>"
   ]
  },
  {
   "cell_type": "markdown",
   "metadata": {},
   "source": [
    "В виде сплошной стены текста очень трудно сравнивать данные. Поместим полученные значения по жанрам в две таблицы оценок пользователей и критиков.\n",
    "\n",
    "Оценки пользователей ставятся по 10-балльной шкале, оценки критиков - по 100-балльной."
   ]
  },
  {
   "cell_type": "code",
   "execution_count": 42,
   "metadata": {},
   "outputs": [
    {
     "data": {
      "text/html": [
       "<div>\n",
       "<style scoped>\n",
       "    .dataframe tbody tr th:only-of-type {\n",
       "        vertical-align: middle;\n",
       "    }\n",
       "\n",
       "    .dataframe tbody tr th {\n",
       "        vertical-align: top;\n",
       "    }\n",
       "\n",
       "    .dataframe thead th {\n",
       "        text-align: right;\n",
       "    }\n",
       "</style>\n",
       "<table border=\"1\" class=\"dataframe\">\n",
       "  <thead>\n",
       "    <tr style=\"text-align: right;\">\n",
       "      <th></th>\n",
       "      <th>Среднее</th>\n",
       "      <th>Дисперсия</th>\n",
       "      <th>Ст. отклонение</th>\n",
       "    </tr>\n",
       "  </thead>\n",
       "  <tbody>\n",
       "    <tr>\n",
       "      <td>Misc</td>\n",
       "      <td>6.608759</td>\n",
       "      <td>2.287515</td>\n",
       "      <td>1.512453</td>\n",
       "    </tr>\n",
       "    <tr>\n",
       "      <td>Action</td>\n",
       "      <td>6.799424</td>\n",
       "      <td>1.808905</td>\n",
       "      <td>1.344955</td>\n",
       "    </tr>\n",
       "    <tr>\n",
       "      <td>Role-Playing</td>\n",
       "      <td>7.246502</td>\n",
       "      <td>1.509977</td>\n",
       "      <td>1.228811</td>\n",
       "    </tr>\n",
       "    <tr>\n",
       "      <td>Shooter</td>\n",
       "      <td>6.472281</td>\n",
       "      <td>2.318144</td>\n",
       "      <td>1.522545</td>\n",
       "    </tr>\n",
       "    <tr>\n",
       "      <td>Racing</td>\n",
       "      <td>6.283721</td>\n",
       "      <td>2.404309</td>\n",
       "      <td>1.550583</td>\n",
       "    </tr>\n",
       "    <tr>\n",
       "      <td>Platform</td>\n",
       "      <td>7.285263</td>\n",
       "      <td>2.376414</td>\n",
       "      <td>1.541562</td>\n",
       "    </tr>\n",
       "    <tr>\n",
       "      <td>Simulation</td>\n",
       "      <td>6.144000</td>\n",
       "      <td>2.863797</td>\n",
       "      <td>1.692276</td>\n",
       "    </tr>\n",
       "    <tr>\n",
       "      <td>Sports</td>\n",
       "      <td>5.964029</td>\n",
       "      <td>2.630433</td>\n",
       "      <td>1.621861</td>\n",
       "    </tr>\n",
       "    <tr>\n",
       "      <td>Fighting</td>\n",
       "      <td>6.979339</td>\n",
       "      <td>1.559325</td>\n",
       "      <td>1.248729</td>\n",
       "    </tr>\n",
       "    <tr>\n",
       "      <td>Strategy</td>\n",
       "      <td>6.532394</td>\n",
       "      <td>3.088106</td>\n",
       "      <td>1.757301</td>\n",
       "    </tr>\n",
       "    <tr>\n",
       "      <td>Adventure</td>\n",
       "      <td>7.309091</td>\n",
       "      <td>1.826508</td>\n",
       "      <td>1.351484</td>\n",
       "    </tr>\n",
       "    <tr>\n",
       "      <td>Puzzle</td>\n",
       "      <td>7.114286</td>\n",
       "      <td>1.153605</td>\n",
       "      <td>1.074060</td>\n",
       "    </tr>\n",
       "  </tbody>\n",
       "</table>\n",
       "</div>"
      ],
      "text/plain": [
       "               Среднее  Дисперсия  Ст. отклонение\n",
       "Misc          6.608759   2.287515        1.512453\n",
       "Action        6.799424   1.808905        1.344955\n",
       "Role-Playing  7.246502   1.509977        1.228811\n",
       "Shooter       6.472281   2.318144        1.522545\n",
       "Racing        6.283721   2.404309        1.550583\n",
       "Platform      7.285263   2.376414        1.541562\n",
       "Simulation    6.144000   2.863797        1.692276\n",
       "Sports        5.964029   2.630433        1.621861\n",
       "Fighting      6.979339   1.559325        1.248729\n",
       "Strategy      6.532394   3.088106        1.757301\n",
       "Adventure     7.309091   1.826508        1.351484\n",
       "Puzzle        7.114286   1.153605        1.074060"
      ]
     },
     "execution_count": 42,
     "metadata": {},
     "output_type": "execute_result"
    }
   ],
   "source": [
    "# перед созданием таблицы по оценкам пользователей создадим переменную с данными:\n",
    "# ключи - будущие названия столбцов,\n",
    "# значения - будущие значения столбцов\n",
    "user_score_data = {\"Среднее\": mu_user_score, \"Дисперсия\": sigma_squared_user_score, \"Ст. отклонение\": sigma_user_score}\n",
    "\n",
    "# индексы - список жанров\n",
    "pd.DataFrame(user_score_data, index=genres_list)"
   ]
  },
  {
   "cell_type": "code",
   "execution_count": 43,
   "metadata": {},
   "outputs": [
    {
     "data": {
      "text/html": [
       "<div>\n",
       "<style scoped>\n",
       "    .dataframe tbody tr th:only-of-type {\n",
       "        vertical-align: middle;\n",
       "    }\n",
       "\n",
       "    .dataframe tbody tr th {\n",
       "        vertical-align: top;\n",
       "    }\n",
       "\n",
       "    .dataframe thead th {\n",
       "        text-align: right;\n",
       "    }\n",
       "</style>\n",
       "<table border=\"1\" class=\"dataframe\">\n",
       "  <thead>\n",
       "    <tr style=\"text-align: right;\">\n",
       "      <th></th>\n",
       "      <th>Среднее</th>\n",
       "      <th>Дисперсия</th>\n",
       "      <th>Ст. отклонение</th>\n",
       "    </tr>\n",
       "  </thead>\n",
       "  <tbody>\n",
       "    <tr>\n",
       "      <td>Misc</td>\n",
       "      <td>68.858209</td>\n",
       "      <td>166.241089</td>\n",
       "      <td>12.893451</td>\n",
       "    </tr>\n",
       "    <tr>\n",
       "      <td>Action</td>\n",
       "      <td>68.754277</td>\n",
       "      <td>187.224224</td>\n",
       "      <td>13.682990</td>\n",
       "    </tr>\n",
       "    <tr>\n",
       "      <td>Role-Playing</td>\n",
       "      <td>72.772532</td>\n",
       "      <td>148.132808</td>\n",
       "      <td>12.170982</td>\n",
       "    </tr>\n",
       "    <tr>\n",
       "      <td>Shooter</td>\n",
       "      <td>71.298113</td>\n",
       "      <td>192.450751</td>\n",
       "      <td>13.872662</td>\n",
       "    </tr>\n",
       "    <tr>\n",
       "      <td>Racing</td>\n",
       "      <td>70.267717</td>\n",
       "      <td>191.172422</td>\n",
       "      <td>13.826512</td>\n",
       "    </tr>\n",
       "    <tr>\n",
       "      <td>Platform</td>\n",
       "      <td>75.139535</td>\n",
       "      <td>169.840995</td>\n",
       "      <td>13.032306</td>\n",
       "    </tr>\n",
       "    <tr>\n",
       "      <td>Simulation</td>\n",
       "      <td>64.768116</td>\n",
       "      <td>156.844781</td>\n",
       "      <td>12.523769</td>\n",
       "    </tr>\n",
       "    <tr>\n",
       "      <td>Sports</td>\n",
       "      <td>70.205882</td>\n",
       "      <td>241.264335</td>\n",
       "      <td>15.532686</td>\n",
       "    </tr>\n",
       "    <tr>\n",
       "      <td>Fighting</td>\n",
       "      <td>69.734513</td>\n",
       "      <td>195.150756</td>\n",
       "      <td>13.969637</td>\n",
       "    </tr>\n",
       "    <tr>\n",
       "      <td>Strategy</td>\n",
       "      <td>72.234375</td>\n",
       "      <td>149.898193</td>\n",
       "      <td>12.243292</td>\n",
       "    </tr>\n",
       "    <tr>\n",
       "      <td>Adventure</td>\n",
       "      <td>69.481481</td>\n",
       "      <td>177.262003</td>\n",
       "      <td>13.313978</td>\n",
       "    </tr>\n",
       "    <tr>\n",
       "      <td>Puzzle</td>\n",
       "      <td>71.740741</td>\n",
       "      <td>74.562414</td>\n",
       "      <td>8.634953</td>\n",
       "    </tr>\n",
       "  </tbody>\n",
       "</table>\n",
       "</div>"
      ],
      "text/plain": [
       "                Среднее   Дисперсия  Ст. отклонение\n",
       "Misc          68.858209  166.241089       12.893451\n",
       "Action        68.754277  187.224224       13.682990\n",
       "Role-Playing  72.772532  148.132808       12.170982\n",
       "Shooter       71.298113  192.450751       13.872662\n",
       "Racing        70.267717  191.172422       13.826512\n",
       "Platform      75.139535  169.840995       13.032306\n",
       "Simulation    64.768116  156.844781       12.523769\n",
       "Sports        70.205882  241.264335       15.532686\n",
       "Fighting      69.734513  195.150756       13.969637\n",
       "Strategy      72.234375  149.898193       12.243292\n",
       "Adventure     69.481481  177.262003       13.313978\n",
       "Puzzle        71.740741   74.562414        8.634953"
      ]
     },
     "execution_count": 43,
     "metadata": {},
     "output_type": "execute_result"
    }
   ],
   "source": [
    "# аналогично с оценками критиков\n",
    "critic_score_data = {\"Среднее\": mu_critic_score, \"Дисперсия\": sigma_squared_critic_score, \"Ст. отклонение\": sigma_critic_score}\n",
    "pd.DataFrame(critic_score_data, index=genres_list)"
   ]
  },
  {
   "cell_type": "markdown",
   "metadata": {},
   "source": [
    "<div class=\"alert alert-success\">\n",
    "<font size=\"5\"><b>Комментарий ревьюера 2</b></font>\n",
    "\n",
    "Согласись, так куда удобнее работать с имеющимися данными. \n",
    "\n",
    "</div>"
   ]
  },
  {
   "cell_type": "markdown",
   "metadata": {},
   "source": [
    "Отобразим распределения гистограммами."
   ]
  },
  {
   "cell_type": "code",
   "execution_count": 44,
   "metadata": {},
   "outputs": [
    {
     "data": {
      "image/png": "[encoded data removed]",
      "text/plain": [
       "<Figure size 432x288 with 1 Axes>"
      ]
     },
     "metadata": {
      "needs_background": "light"
     },
     "output_type": "display_data"
    },
    {
     "data": {
      "image/png": "[encoded data removed]",
      "text/plain": [
       "<Figure size 432x288 with 1 Axes>"
      ]
     },
     "metadata": {
      "needs_background": "light"
     },
     "output_type": "display_data"
    },
    {
     "data": {
      "image/png": "[encoded data removed]",
      "text/plain": [
       "<Figure size 432x288 with 1 Axes>"
      ]
     },
     "metadata": {
      "needs_background": "light"
     },
     "output_type": "display_data"
    },
    {
     "data": {
      "image/png": "[encoded data removed]",
      "text/plain": [
       "<Figure size 432x288 with 1 Axes>"
      ]
     },
     "metadata": {
      "needs_background": "light"
     },
     "output_type": "display_data"
    },
    {
     "data": {
      "image/png": "[encoded data removed]",
      "text/plain": [
       "<Figure size 432x288 with 1 Axes>"
      ]
     },
     "metadata": {
      "needs_background": "light"
     },
     "output_type": "display_data"
    },
    {
     "data": {
      "image/png": "[encoded data removed]",
      "text/plain": [
       "<Figure size 432x288 with 1 Axes>"
      ]
     },
     "metadata": {
      "needs_background": "light"
     },
     "output_type": "display_data"
    },
    {
     "data": {
      "image/png": "[encoded data removed]",
      "text/plain": [
       "<Figure size 432x288 with 1 Axes>"
      ]
     },
     "metadata": {
      "needs_background": "light"
     },
     "output_type": "display_data"
    },
    {
     "data": {
      "image/png": "[encoded data removed]",
      "text/plain": [
       "<Figure size 432x288 with 1 Axes>"
      ]
     },
     "metadata": {
      "needs_background": "light"
     },
     "output_type": "display_data"
    },
    {
     "data": {
      "image/png": "[encoded data removed]",
      "text/plain": [
       "<Figure size 432x288 with 1 Axes>"
      ]
     },
     "metadata": {
      "needs_background": "light"
     },
     "output_type": "display_data"
    },
    {
     "data": {
      "image/png": "[encoded data removed]",
      "text/plain": [
       "<Figure size 432x288 with 1 Axes>"
      ]
     },
     "metadata": {
      "needs_background": "light"
     },
     "output_type": "display_data"
    },
    {
     "data": {
      "image/png": "[encoded data removed]",
      "text/plain": [
       "<Figure size 432x288 with 1 Axes>"
      ]
     },
     "metadata": {
      "needs_background": "light"
     },
     "output_type": "display_data"
    },
    {
     "data": {
      "image/png": "[encoded data removed]",
      "text/plain": [
       "<Figure size 432x288 with 1 Axes>"
      ]
     },
     "metadata": {
      "needs_background": "light"
     },
     "output_type": "display_data"
    }
   ],
   "source": [
    "# цикл построит график распределения оценок для каждого жанра,\n",
    "# столбец user_score имеет значения от 0 до 10,\n",
    "# столбец critic_score - от 0 до 100,\n",
    "# поэтому для сопоставления значения user_score надо умножить на 10\n",
    "for genre in genres_list:\n",
    "    fig, axes = plt.subplots()\n",
    "    df_genre = df[df['genre'] == genre]\n",
    "    user_score = df_genre['user_score'] * 10\n",
    "    critic_score = df_genre['critic_score']\n",
    "    plt.hist([user_score, critic_score], alpha=0.9, label = ['user_score', 'critic_score'])\n",
    "    plt.legend()\n",
    "    plt.title(genre)"
   ]
  },
  {
   "cell_type": "markdown",
   "metadata": {},
   "source": [
    "По большинству жанров чаще всего игры получают оценки критиков от 60 до 90 (из 100 по метрологии оценок критиков).\n",
    "В каких-то жанрах выше оценки критиков, где-то - оценки пользователей. Получилось 12 распределений, по количеству жанров. Как-то однозначно сопоставить оценки критиков и пользователей по жанрам исходя из графиков сложно.\n",
    "\n",
    "Большинство графиков распределений получаются скошенными влево. Связано это, думаю, с тем, что на оценку критикам и пользователям попадают, скорее, какие-то знаковые примечательные игры. Может быть игры, которые ждут, с анонсами, трейлерами, какими-то другими маркетинговыми воздействиями. Никому не известные инди-игры, да ещё и плохие, скорее всего, даже не дойдут до оценки. Также дело ещё и в восприятии наших оценок: если игра, в общем, хорошая, оценка у неё будет в диапазоне, например, от 70 до 100. Если игра плохая, ей, скорее, поставят оценку 40-50-60, но никак не 0-10-20. Графики это подтверждают - оценок до 20 практически нет. Таким образом, большинство игр воспринимаются как хорошие, да и даже игры, которые можно оценить, как, условно, \"выше среднего\", получат самые частые оценки - на графиках распределений это примерно от 60 до 90."
   ]
  },
  {
   "cell_type": "markdown",
   "metadata": {},
   "source": [
    "<div class=\"alert alert-success\">\n",
    "<font size=\"5\"><b>Комментарий ревьюера</b></font>\n",
    "\n",
    "Анализ проведен. Как думаешь, почему по большинству жанров мы получаем скошенные влево распределения?\n",
    "\n",
    "</div>\n",
    "\n",
    "\n",
    "<div class=\"alert alert-success\">\n",
    "<font size=\"5\"><b>Комментарий обучающегося</b></font>\n",
    "\n",
    "Обновил вывод в ячейке выше.\n",
    "\n",
    "</div>"
   ]
  },
  {
   "cell_type": "markdown",
   "metadata": {},
   "source": [
    "<div class=\"alert alert-success\">\n",
    "<font size=\"5\"><b>Комментарий ревьюера 2</b></font>\n",
    "\n",
    "Соглашусь, тестируются в основном игры, которые интересны публике. Пользователи также играют в те игры, которые им интересны, что и сказывается на оценке. \n",
    "\n",
    "</div>"
   ]
  },
  {
   "cell_type": "markdown",
   "metadata": {},
   "source": [
    "## Проверка гипотез"
   ]
  },
  {
   "cell_type": "markdown",
   "metadata": {},
   "source": [
    "**Нулевая гипотеза H₀ №1: средние пользовательские рейтинги платформ Xbox One и PC одинаковые.**\n",
    "\n",
    "Согласно изученному в курсе материалу такая нулевая гипотеза является двусторонней с условием, что средние двух генеральных совокупностей равны между собой. Исходя из этого, можно сформулировать альтернативную гипотезу о неравенстве.\n",
    "\n",
    "**Альтернативная гипотеза H₁ №1: средние пользовательские рейтинги платформ Xbox One и PC отличаются.**\n",
    "\n",
    "Чтобы проверить нулевую гипотезу о равенстве средних пользовательских рейтингов двух платформ, используем изученный в курсе метод scipy.stats.ttest_ind (array1, array2, equal_var).\n",
    "\n",
    "Необходимо определить, считать ли равными дисперсии генеральных совокупностей. Это даст понимание, какое значение устанавливать параметру equal_var (True/False). Данные для определения дисперсий по пользовательским рейтингам консоли Xbox One и PC можно рассчитать."
   ]
  },
  {
   "cell_type": "code",
   "execution_count": 45,
   "metadata": {},
   "outputs": [
    {
     "data": {
      "text/plain": [
       "PS3     851\n",
       "X360    667\n",
       "DS      507\n",
       "PSP     500\n",
       "3DS     466\n",
       "Wii     449\n",
       "PC      425\n",
       "PSV     344\n",
       "PS4     228\n",
       "XOne    160\n",
       "WiiU    133\n",
       "PS2      45\n",
       "Name: platform, dtype: int64"
      ]
     },
     "execution_count": 45,
     "metadata": {},
     "output_type": "execute_result"
    }
   ],
   "source": [
    "df['platform'].value_counts()"
   ]
  },
  {
   "cell_type": "code",
   "execution_count": 46,
   "metadata": {},
   "outputs": [
    {
     "data": {
      "text/plain": [
       "1.6451872770511295"
      ]
     },
     "execution_count": 46,
     "metadata": {},
     "output_type": "execute_result"
    }
   ],
   "source": [
    "# расчёт дисперсии для Xbox One\n",
    "np.var(df[df['platform']=='XOne']['user_score'])"
   ]
  },
  {
   "cell_type": "code",
   "execution_count": 47,
   "metadata": {},
   "outputs": [
    {
     "data": {
      "text/plain": [
       "2.3657190898088527"
      ]
     },
     "execution_count": 47,
     "metadata": {},
     "output_type": "execute_result"
    }
   ],
   "source": [
    "# расчёт дисперсии для персонального компьютера\n",
    "np.var(df[df['platform']=='PC']['user_score'])"
   ]
  },
  {
   "cell_type": "markdown",
   "metadata": {},
   "source": [
    "Полагаю, что по таким значения можно утверждать, что дисперсии пользовательских рейтингов отличаются, поэтому параметр equal_var будем использовать со значением False."
   ]
  },
  {
   "cell_type": "code",
   "execution_count": 48,
   "metadata": {},
   "outputs": [],
   "source": [
    "# выборка необходимых значений,\n",
    "# оценки пользователей, равные нулю, также учитываем, т.к. это тоже оценка\n",
    "xbox_one_user_score = df[df['platform']=='XOne']['user_score'].dropna().reset_index(drop=True)\n",
    "pc_user_score = df[df['platform']=='PC']['user_score'].dropna().reset_index(drop=True)"
   ]
  },
  {
   "cell_type": "markdown",
   "metadata": {},
   "source": [
    "Как и при изучении материала будем использовать критический уровень статистической значимости alpha = 0.05."
   ]
  },
  {
   "cell_type": "code",
   "execution_count": 49,
   "metadata": {},
   "outputs": [
    {
     "name": "stdout",
     "output_type": "stream",
     "text": [
      "p-значение: 0.6300705919359528\n",
      "Не получилось отвергнуть нулевую гипотезу\n"
     ]
    }
   ],
   "source": [
    "# расчёт p-value и сравнение с alpha\n",
    "alpha = 0.05\n",
    "\n",
    "results = st.ttest_ind(xbox_one_user_score, pc_user_score, equal_var=False)\n",
    "\n",
    "print('p-значение:', results.pvalue)\n",
    "\n",
    "if results.pvalue < alpha:\n",
    "    print(\"Отвергаем нулевую гипотезу\")\n",
    "else:\n",
    "    print(\"Не получилось отвергнуть нулевую гипотезу\")"
   ]
  },
  {
   "cell_type": "markdown",
   "metadata": {},
   "source": [
    "Значение p-value получилось больше порогового значения alpha. Таким образом, мы принимаем нулевую гипотезу: средние пользовательские рейтинги платформ Xbox One и PC одинаковые."
   ]
  },
  {
   "cell_type": "markdown",
   "metadata": {},
   "source": [
    "<div class=\"alert alert-success\">\n",
    "<font size=\"5\"><b>Комментарий ревьюера</b></font>\n",
    "\n",
    "Гипотезы сформулированы и проверены верно.\n",
    "\n",
    "</div>"
   ]
  },
  {
   "cell_type": "markdown",
   "metadata": {},
   "source": [
    "**Нулевая гипотеза H₀ №2: средние пользовательские рейтинги жанров Action и Sports одинаковые.**\n",
    "\n",
    "**Альтернативная гипотеза H₁ №2: средние пользовательские рейтинги платформ Action и Sports отличаются.**\n",
    "\n",
    "Аналогично посчитаем дисперсии двух совокупностей и попытаемся их сравнить"
   ]
  },
  {
   "cell_type": "code",
   "execution_count": 50,
   "metadata": {},
   "outputs": [
    {
     "data": {
      "text/plain": [
       "1.8089045669343655"
      ]
     },
     "execution_count": 50,
     "metadata": {},
     "output_type": "execute_result"
    }
   ],
   "source": [
    "# расчёт дисперсии для жанра Action\n",
    "np.var(df[df['genre']=='Action']['user_score'])"
   ]
  },
  {
   "cell_type": "code",
   "execution_count": 51,
   "metadata": {},
   "outputs": [
    {
     "data": {
      "text/plain": [
       "2.630432689819368"
      ]
     },
     "execution_count": 51,
     "metadata": {},
     "output_type": "execute_result"
    }
   ],
   "source": [
    "# расчёт дисперсии для жанра Sports\n",
    "np.var(df[df['genre']=='Sports']['user_score'])"
   ]
  },
  {
   "cell_type": "markdown",
   "metadata": {},
   "source": [
    "Также будем использовать equal_var=False."
   ]
  },
  {
   "cell_type": "code",
   "execution_count": 52,
   "metadata": {},
   "outputs": [],
   "source": [
    "# выборка необходимых значений,\n",
    "# оценки пользователей, равные нулю, также учитываем, т.к. это тоже оценка\n",
    "action_user_score = df[df['genre']=='Action']['user_score'].dropna().reset_index(drop=True)\n",
    "sports_user_score = df[df['genre']=='Sports']['user_score'].dropna().reset_index(drop=True)"
   ]
  },
  {
   "cell_type": "code",
   "execution_count": 53,
   "metadata": {},
   "outputs": [
    {
     "name": "stdout",
     "output_type": "stream",
     "text": [
      "p-значение: 1.918016559591447e-13\n",
      "Отвергаем нулевую гипотезу\n"
     ]
    }
   ],
   "source": [
    "# расчёт p-value и сравнение с alpha\n",
    "alpha = 0.05\n",
    "\n",
    "results = st.ttest_ind(action_user_score, sports_user_score, equal_var=False)\n",
    "\n",
    "print('p-значение:', results.pvalue)\n",
    "\n",
    "if results.pvalue < alpha:\n",
    "    print(\"Отвергаем нулевую гипотезу\")\n",
    "else:\n",
    "    print(\"Не получилось отвергнуть нулевую гипотезу\")"
   ]
  },
  {
   "cell_type": "markdown",
   "metadata": {},
   "source": [
    "Значение pvalue превышает пороговое значение (alpha = 5%), поэтому отвергаем нулевую гипотезу и принимаем альтернативную: средние пользовательские рейтинги жанров Action и Sports отличаются. "
   ]
  },
  {
   "cell_type": "markdown",
   "metadata": {},
   "source": [
    "<div class=\"alert alert-danger\">\n",
    "<font size=\"5\"><b>Комментарий ревьюера</b></font>\n",
    "\n",
    "Нулевая гипотеза всегда формулируется с учетом знака равенства. Исправь это. \n",
    "\n",
    "</div>\n",
    "\n",
    "<div class=\"alert alert-danger\">\n",
    "<font size=\"5\"><b>Комментарий обучающегося</b></font>\n",
    "\n",
    "Гипотеза №2 переформулирована и перепроверена, нулевая и альтернативная гипотезы изменены.\n",
    "\n",
    "</div>"
   ]
  },
  {
   "cell_type": "markdown",
   "metadata": {},
   "source": [
    "<div class=\"alert alert-success\">\n",
    "<font size=\"5\"><b>Комментарий ревьюера 2</b></font>\n",
    "\n",
    "Да, теперь все сделано правильно. Формулировки и проверка корректны. \n",
    "\n",
    "</div>"
   ]
  },
  {
   "cell_type": "markdown",
   "metadata": {},
   "source": [
    "## Общий вывод"
   ]
  },
  {
   "cell_type": "markdown",
   "metadata": {},
   "source": [
    "В проекте были исследованы продажи видеоигр за период до конца 2016-го года. Была проведена загрузка и подготовка данных, нормализовавны названия столбцов и их значения. Для дальнейшего анализа добавлен столбец суммарных продаж во всех трёх рассматриваемых регионах.\n",
    "\n",
    "Был проведён исследовательский анализ данных. Больше всего игр в индустрии выходило в период с 2005-го по 2011-й годы. В 2012-м году была большая просадка, после которой цифры уже не восстановились. Связываю это, прежде всего, с развитием мобильных телефонов, которые во многом переключили внимание на себя, в рассматриваемом датасете игры для мобильных телефонов не учитываются. За всё время можно выделить 6 платформ с наибольшими суммарными продажами: PS2, X360, PS3, Wii, DS, PS. Они были проанализированы отдельно. С помощью визуализаций был определён средний срок жизни консолей: 8-10 лет. Также на графиках видно, что на конец 2016-го года продажи практически всех консолей находятся либо не сильно выше нуля, либо очеведен нисходящий тренд по продажам. Насколько мы знаем, на сегодня все платформы-лидеры уже потеряли актуальность и относятся, скорее, к ретро-геймингу.\n",
    "\n",
    "Было проанализировано влияние отзывов критиков и пользователей на суммарные продажи. Оценки критиков более однородны, поскольку критики придерживаются общих критериев при выыставлении оценки и, по сути, должны быть относительно беспристрастными. Пользователи же могут оценивать игры абсолютно из любых личных предпочтений.\n",
    "\n",
    "В разрезе жанров больше всего игр выходят игр-экшенов, генерируют больше всего выручки наряду с экшенами также шутеры.\n",
    "\n",
    "Также были по отдельности рассмотрены рынки Северной Америки, Европы и Японии. Больше всего игр продаётся в Северной Америке, затем идёт Европа. Япония, хоть и уступает, но является относительно небольшой страной, при этом идёт её сопоставление с целыми частями света, поэтому интересно было бы провести анализ в разрезе отдельных стран. Пока же можно подтвердить мнение, что Япония является сильно геймифицированной страной. Также в Японии своеобразны предпочтения по жанрам, и есть нишевые платформы, в Северной Америке и Европе предпочтения более однородны. Здесь уже играют роль культурные и ментальные особенности нации - Северная Америка и Европа во всех смыслах ближе друг к другу, чем Япония.\n",
    "\n",
    "При анализе были использованы статистические показатели - среднее, дисперсия, стандартное отклонение.\n",
    "\n",
    "Были сформулированы и проверены две гипотезы с помощью t-теста Стьюдента из библиотеки scipy путём сравнения pvalue с пороговым значением alpha. В результате была принята первая нулевая гипотеза о том, что средние пользовательские рейтинги платформ Xbox One и PC одинаковые. Вторая нулевая гипотеза о том, что средние пользовательские рейтинги жанров Action и Sports одинаковые, была отвергнута, была принята альтернативная гипотеза об отличии рейтингов.\n",
    "\n",
    "Из рекомендаций для интернет-магазина «Стримчик», помимо предложения использовать для анализа однородные территориальные данные по странам, можно предложить следующее:\n",
    "\n",
    "- динамика по годам будет более полной, если найти и добавить данные по продажам для мобильных телефонов, т.к. именно с развитием этой платформы мы связываем продолжающийся с 2012-го года спад;\n",
    "- для корректного расчёта прибыльности платформ и жанров необходимо помимо общих продаж (выручки) также учитывать затраты на производство (экшены и шутеры делать дороже)."
   ]
  },
  {
   "cell_type": "markdown",
   "metadata": {},
   "source": [
    "<div class=\"alert alert-success\">\n",
    "<font size=\"5\"><b>Комментарий ревьюера</b></font>\n",
    "\n",
    "Выводы описаны грамотно. Приведены ответы на главные вопросы проекта. В выводах можно приводить полученные ранее значения, правильно. Здорово, что по каждому пункту работы приведен вывод. Еще лучше будет, если приведешь рекомендации для компании по дальнейшим действиям. \n",
    "\n",
    "</div>\n",
    "\n",
    "\n",
    "\n",
    "<div class=\"alert alert-success\">\n",
    "<font size=\"5\"><b>Комментарий обучающегося</b></font>\n",
    "\n",
    "Переработал общий вывод с учётом того, что многие значение изменились по сравнению с первой версией файла, т.к. использовался другой срез данных в части временного периода и использования ограничения по рассматриваемым платформам.\n",
    "    \n",
    "Добавил рекомендации по тем выводам, к которым пришёл в процессе анализа.\n",
    "\n",
    "</div>"
   ]
  },
  {
   "cell_type": "markdown",
   "metadata": {},
   "source": [
    "<div class=\"alert alert-success\">\n",
    "<font size=\"5\"><b>Комментарий ревьюера 2</b></font>\n",
    "\n",
    "Вывод просто 🔥)\n",
    "\n",
    "</div>"
   ]
  },
  {
   "cell_type": "markdown",
   "metadata": {},
   "source": [
    "<div class=\"alert alert-warning\">\n",
    "<font size=\"5\"><b>Комментарий ревьюера</b></font>\n",
    "\n",
    "Если тебе нравится тема визуализации, то можешь изучить другие методы библиотеки seaborn. Она позволяет строить довольно презентабельные графики.\n",
    "\n",
    "Ты проделал большую работу, молодец! Критических замечаний немного. Однако с ними важно поработать и их исправить. Также есть достаточное число желтых комментариев. Думаю, исправить их тебе не составит труда. Жду твою работу :)\n",
    "\n",
    "</div>\n",
    "\n",
    "<div class=\"alert alert-warning\">\n",
    "<font size=\"5\"><b>Комментарий обучающегося</b></font>\n",
    "\n",
    "Спасибо за ревью, Артем, очень круто. На комментарии с моей стороны предложено какое-то новое решение или обоснование. Также отмечу, что из-за того, что при исправлении замечаний я уменьшил период, за который проводил исследовательский анализ данных, результаты получились другие, их нужно было интерпретировать заново и, фактически, переделывать весь проект. Я открыт к дальнейшим обсуждениям и исправлениям. Полагаю, их осталось не так много :)\n",
    "\n",
    "</div>"
   ]
  },
  {
   "cell_type": "markdown",
   "metadata": {},
   "source": [
    "<div class=\"alert alert-success\">\n",
    "<font size=\"5\"><b>Комментарий ревьюера 2</b></font>\n",
    "\n",
    "Помарки исправлены, и теперь работа выполнена хорошо. У тебя получился крутой проект, молодец. Проделана огромная работа! Поздравляю со сданным проектом. Надеюсь, он был интересен и познавателен. Спасибо за столь подробные качественные комментарии по исправлениям. Успехов в дальнейшем пути :)\n",
    "\n",
    "</div>"
   ]
  }
 ],
 "metadata": {
  "kernelspec": {
   "display_name": "Python 3",
   "language": "python",
   "name": "python3"
  },
  "language_info": {
   "codemirror_mode": {
    "name": "ipython",
    "version": 3
   },
   "file_extension": ".py",
   "mimetype": "text/x-python",
   "name": "python",
   "nbconvert_exporter": "python",
   "pygments_lexer": "ipython3",
   "version": "3.7.8"
  },
  "toc": {
   "base_numbering": 1,
   "nav_menu": {},
   "number_sections": false,
   "sideBar": true,
   "skip_h1_title": true,
   "title_cell": "Table of Contents",
   "title_sidebar": "Contents",
   "toc_cell": false,
   "toc_position": {},
   "toc_section_display": true,
   "toc_window_display": false
  }
 },
 "nbformat": 4,
 "nbformat_minor": 2
}
